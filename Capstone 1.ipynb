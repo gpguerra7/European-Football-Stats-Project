{
 "cells": [
  {
   "cell_type": "markdown",
   "metadata": {},
   "source": [
    "# European Football Statistics"
   ]
  },
  {
   "cell_type": "code",
   "execution_count": 2,
   "metadata": {},
   "outputs": [
    {
     "name": "stderr",
     "output_type": "stream",
     "text": [
      "C:\\Users\\USER\\Anaconda3\\lib\\site-packages\\statsmodels\\compat\\pandas.py:56: FutureWarning: The pandas.core.datetools module is deprecated and will be removed in a future version. Please use the pandas.tseries module instead.\n",
      "  from pandas.core import datetools\n"
     ]
    }
   ],
   "source": [
    "import pandas as pd\n",
    "import numpy as np\n",
    "import requests\n",
    "import http.client\n",
    "import json\n",
    "from pandas.io.json import json_normalize\n",
    "import matplotlib.pyplot as plt\n",
    "import seaborn as sns\n",
    "from scipy import stats\n",
    "import statsmodels.api as sm\n",
    "from statsmodels.formula.api import ols\n",
    "\n",
    "key = '80c2f8ba62244830a2eda578176435d9'"
   ]
  },
  {
   "cell_type": "code",
   "execution_count": 3,
   "metadata": {
    "collapsed": true
   },
   "outputs": [],
   "source": [
    "#Import Excel file with Club Market Values\n",
    "\n",
    "excel = 'C:/Users/USER/Documents/Springboard/Capstone 1/club_values.xlsx'\n",
    "sheets = [426, 430, 434, 436, 438]\n",
    "\n",
    "columns = [\"Clubs\", \"Unnamed: 1\", \"Squad\", \"Age\", \"Foreign players\", \"Total market value\", \"Market value\"]\n",
    "club_values = pd.DataFrame(columns=columns)\n",
    "for i in sheets:\n",
    "    df = pd.read_excel(open(excel,'rb'), sheetname= str(i))\n",
    "    df = df.iloc[1:,:]\n",
    "    df.columns = [\"Clubs\", \"Unnamed: 1\", \"Squad\", \"Age\", \"Foreign players\", \"Total market value\", \"Market value\"]\n",
    "    club_values =club_values.append(df, ignore_index=True)\n",
    "\n",
    "#Standardize Club names   \n",
    "\n",
    "club_values.loc[24,\"Clubs\"]=\"Red Bull Leipzig\"\n",
    "club_values.loc[20,\"Clubs\"]=\"FC Bayern München\"\n",
    "club_values.loc[25,\"Clubs\"]=\"Bor. Mönchengladbach\"\n",
    "club_values.loc[22,\"Clubs\"]=\"Bayer Leverkusen\"\n",
    "club_values.loc[30,\"Clubs\"]=\"Werder Bremen\"\n",
    "club_values.loc[32,\"Clubs\"]=\"1. FSV Mainz \"\n",
    "club_values.loc[42,\"Clubs\"]=\"Olympique de Marseille\"\n",
    "club_values.loc[46,\"Clubs\"]=\"OSC Lille\"\n",
    "club_values.loc[49,\"Clubs\"]=\"Montpellier Hérault SC\"\n",
    "club_values.loc[44,\"Clubs\"]=\"FC Girondins de Bordeaux\"\n",
    "club_values.loc[56,\"Clubs\"]=\"Dijon FCO\"\n",
    "club_values.loc[45,\"Clubs\"]=\"Toulouse FC\"\n",
    "club_values.loc[57,\"Clubs\"]=\"AS Nancy\"\n",
    "club_values.loc[51,\"Clubs\"]=\"Angers SCO\"\n",
    "club_values.loc[64,\"Clubs\"]=\"Athletic Club\"\n",
    "club_values.loc[75,\"Clubs\"]=\"CD Leganes\"\n",
    "club_values.loc[60,\"Clubs\"]=\"Club Atlético de Madrid\"\n",
    "club_values.loc[70,\"Clubs\"]=\"Real Betis\"\n",
    "club_values.loc[71,\"Clubs\"]=\"RCD Espanyol\"\n",
    "club_values.loc[73,\"Clubs\"]=\"RC Deportivo La Coruna\"\n",
    "club_values.loc[97,\"Clubs\"]=\"US Cittá di Palermo\"\n",
    "club_values.loc[78,\"Clubs\"]=\"Juventus Turin\"\n",
    "club_values.loc[91,\"Clubs\"]=\"Bologna FC\"\n",
    "club_values.loc[94,\"Clubs\"]=\"Pescara Calcio\"\n",
    "club_values.loc[93,\"Clubs\"]=\"Empoli FC\"\n",
    "club_values.loc[81,\"Clubs\"]=\"FC Internazionale Milano\""
   ]
  },
  {
   "cell_type": "code",
   "execution_count": 5,
   "metadata": {},
   "outputs": [],
   "source": [
    "#Import Excel file with Arsenal History\n",
    "\n",
    "excel = 'C:/Users/USER/Documents/Springboard/Capstone 1/club_values.xlsx'\n",
    "\n",
    "columns = [\"Season\", \"Total Market Value\", \"Matches\", \"Wins\", \"Draws\", \"Losses\", \"Points\"]\n",
    "ars_hist = pd.DataFrame(columns=columns)\n",
    "\n",
    "df = pd.read_excel(open(excel,'rb'), sheetname= 'ars_hist')\n",
    "df.columns = [\"Season\", \"Total Market Value\", \"Matches\", \"Wins\", \"Draws\", \"Losses\", \"Points\"]\n",
    "ars_hist = ars_hist.append(df, ignore_index=True)"
   ]
  },
  {
   "cell_type": "code",
   "execution_count": 6,
   "metadata": {
    "collapsed": true
   },
   "outputs": [],
   "source": [
    "#Load League Data From: http://api.football-data.org\n",
    "\n",
    "connection = http.client.HTTPConnection('api.football-data.org')\n",
    "headers = { 'X-Auth-Token': key, 'X-Response-Control': 'minified' }\n",
    "connection.request('GET', '/v1/competitions/?season=2016', None, headers )\n",
    "response = json.loads(connection.getresponse().read().decode())\n",
    "\n",
    "#Create data frame of top 5 most important leagues\n",
    "\n",
    "top_leagues_df = pd.DataFrame(response)\n",
    "top_leagues_df = top_leagues_df[top_leagues_df['league'].isin(['BL1', 'FL1', 'PL', 'PD', 'SA'])]\n",
    "top_leagues_df.rename(columns={'caption':'name'}, inplace=True)\n",
    "top_leagues_df = top_leagues_df.reset_index()\n",
    "top_leagues_df = top_leagues_df[['id', 'name', 'league', 'numberOfTeams']]\n",
    "top_leagues_df['name'] = top_leagues_df['name'].map(lambda x: str(x)[:-8])\n",
    "top_leagues_df.columns = ['league_id', 'league_name', 'league', 'number_of_eams']\n",
    "\n",
    "countries = ['United Kingdom', 'Germany', 'France', 'Spain', 'Italy']\n",
    "top_leagues_df['country'] = countries"
   ]
  },
  {
   "cell_type": "code",
   "execution_count": 7,
   "metadata": {
    "collapsed": true
   },
   "outputs": [],
   "source": [
    "#Load Team Data From: http://api.football-data.org\n",
    "\n",
    "league_list = top_leagues_df['league_id']\n",
    "columns = ['crestUrl', 'id', 'name', 'shortName', 'squadMarketValue', 'league_id']\n",
    "teams_df = pd.DataFrame(columns=columns)\n",
    "teams_df\n",
    "id = 0\n",
    "for i in league_list:\n",
    "    connection = http.client.HTTPConnection('api.football-data.org')\n",
    "    headers = { 'X-Auth-Token': key, 'X-Response-Control': 'minified' }\n",
    "    connection.request('GET', '/v1/competitions/'+str(i)+'/teams', None, headers )\n",
    "    response = json.loads(connection.getresponse().read().decode())\n",
    "    data_df = pd.DataFrame(response)\n",
    "    data_df = data_df['teams']\n",
    "    teams_list=[]\n",
    "    for i in data_df:\n",
    "        teams_list.append(i)\n",
    "    data_df = pd.DataFrame.from_dict(teams_list)\n",
    "    data_df['league_id'] = league_list[id]\n",
    "    teams_df = teams_df.append(data_df, ignore_index=True)\n",
    "    id+=1\n",
    "teams_df = teams_df.sort_values('id')"
   ]
  },
  {
   "cell_type": "code",
   "execution_count": 9,
   "metadata": {},
   "outputs": [],
   "source": [
    "#loads teams' standing at end of 2016/2017 season from: http://api.football-data.org\n",
    "\n",
    "columns = [\"Home Draws\", \"Home Goals\", \"Home Goals Against\", \"Home Losses\", \"Home Wins\"]\n",
    "standings_df = pd.DataFrame(columns=columns)\n",
    "league_list = list(top_leagues_df['league_id'])\n",
    "id = 0\n",
    "for i in league_list:\n",
    "    url='http://api.football-data.org/v1/competitions/'+str(i)+'/leagueTable/?apikey=80c2f8ba62244830a2eda578176435d9'\n",
    "    r = requests.get(url)\n",
    "    json_data = r.json()\n",
    "    json_data = json_data['standing']\n",
    "    for i in json_data:\n",
    "        data={}\n",
    "        for k, v in i.items():\n",
    "            if k not in ['home', 'away']:\n",
    "                data[k] = v\n",
    "        data_df =pd.DataFrame.from_dict(data)\n",
    "        data_df = data_df.reset_index(drop=True)\n",
    "        venue={}\n",
    "        for k, v in i.items():\n",
    "            if k in ['home', 'away']:\n",
    "                venue[k] = v\n",
    "        df =pd.DataFrame.from_dict(venue)\n",
    "        df =df.transpose()\n",
    "        away_df =pd.DataFrame(df.iloc[0,:])\n",
    "        away_df =away_df.transpose()\n",
    "        away_df.columns = [\"Away Draws\", \"Away Goals\", \"Away Goals Against\", \"Away Losses\", \"Away Wins\"]\n",
    "        away_df = away_df.reset_index(drop=True)\n",
    "        home_df =pd.DataFrame(df.iloc[1,:])\n",
    "        home_df =home_df.transpose()\n",
    "        home_df.columns = [\"Home Draws\", \"Home Goals\", \"Home Goals Against\", \"Home Losses\", \"Home Wins\"]\n",
    "        home_df = home_df.reset_index(drop=True)\n",
    "        venue_df = pd.concat([home_df, away_df], axis=1)\n",
    "        team_stats_df = pd.concat([data_df, venue_df], axis=1)\n",
    "        team_stats_df = team_stats_df.set_index('_links')\n",
    "        team_stats_df['league_id'] = league_list[id]\n",
    "        standings_df = standings_df.append(team_stats_df, ignore_index=True)\n",
    "    id += 1"
   ]
  },
  {
   "cell_type": "code",
   "execution_count": 10,
   "metadata": {
    "collapsed": true
   },
   "outputs": [],
   "source": [
    "# Load Player Data From: http://api.football-data.org\n",
    "\n",
    "#Creates Data Frame for half of players\n",
    "\n",
    "columns = ['id', 'name', 'dateOfBirth', 'position', 'nationality', 'marketValue', 'jerseyNumber', 'contractUntil']\n",
    "players_df1 = pd.DataFrame(columns=columns)\n",
    "teams_list = list(teams_df['id'])\n",
    "teams_list = teams_list[0:49]\n",
    "id = 0\n",
    "for i in teams_list:\n",
    "    connection = http.client.HTTPConnection('api.football-data.org')\n",
    "    headers = { 'X-Auth-Token': key, 'X-Response-Control': 'minified' }\n",
    "    connection.request('GET', '/v1/teams/'+str(i)+'/players', None, headers )\n",
    "    response = json.loads(connection.getresponse().read().decode())     \n",
    "    data_df = pd.DataFrame(response)\n",
    "    data_df = data_df['players']\n",
    "    players_list=[]\n",
    "    for i in data_df:\n",
    "        players_list.append(i)\n",
    "    data_df = pd.DataFrame.from_dict(players_list)\n",
    "    data_df['team_id'] = teams_list[id]\n",
    "    players_df1 = players_df1.append(data_df, ignore_index=True)\n",
    "    id+=1"
   ]
  },
  {
   "cell_type": "code",
   "execution_count": 13,
   "metadata": {},
   "outputs": [],
   "source": [
    "#Creates Data Frame for second half of players    \n",
    "    \n",
    "columns = ['id', 'name', 'dateOfBirth', 'position', 'nationality', 'marketValue', 'jerseyNumber', 'contractUntil']\n",
    "players_df2 = pd.DataFrame(columns=columns)\n",
    "teams_list = list(teams_df['id'])\n",
    "teams_list = teams_list[49:]\n",
    "id = 0\n",
    "for i in teams_list:\n",
    "    connection = http.client.HTTPConnection('api.football-data.org')\n",
    "    headers = { 'X-Auth-Token': key, 'X-Response-Control': 'minified' }\n",
    "    connection.request('GET', '/v1/teams/'+str(i)+'/players', None, headers )\n",
    "    response = json.loads(connection.getresponse().read().decode())     \n",
    "    data_df = pd.DataFrame(response)\n",
    "    data_df = data_df['players']\n",
    "    players_list=[]\n",
    "    for i in data_df:\n",
    "        players_list.append(i)\n",
    "    data_df = pd.DataFrame.from_dict(players_list)\n",
    "    data_df['team_id'] = teams_list[id]\n",
    "    players_df2 = players_df2.append(data_df, ignore_index=True)\n",
    "    id+=1"
   ]
  },
  {
   "cell_type": "code",
   "execution_count": 14,
   "metadata": {
    "collapsed": true
   },
   "outputs": [],
   "source": [
    "#Merge players data frames into one\n",
    "players_df = players_df1.append(players_df2, ignore_index=True)"
   ]
  },
  {
   "cell_type": "code",
   "execution_count": 15,
   "metadata": {},
   "outputs": [
    {
     "name": "stderr",
     "output_type": "stream",
     "text": [
      "C:\\Users\\USER\\Anaconda3\\lib\\site-packages\\pandas\\core\\indexing.py:517: SettingWithCopyWarning: \n",
      "A value is trying to be set on a copy of a slice from a DataFrame.\n",
      "Try using .loc[row_indexer,col_indexer] = value instead\n",
      "\n",
      "See the caveats in the documentation: http://pandas.pydata.org/pandas-docs/stable/indexing.html#indexing-view-versus-copy\n",
      "  self.obj[item] = s\n"
     ]
    }
   ],
   "source": [
    "#Renames, reorders and changes columns data types for leagues data frame\n",
    "\n",
    "Top_leagues_df = top_leagues_df[['league_id', 'league_name', 'number_of_eams', 'country']]\n",
    "Top_leagues_df.loc[:,'league_id'], Top_leagues_df.loc[:,'number_of_eams'] = Top_leagues_df.loc[:,'league_id'].astype(int), Top_leagues_df.loc[:,'number_of_eams'].astype(int)\n",
    "Top_leagues_df.columns = [\"League ID\", \"League Name\", \"Number of Teams\", \"Country\"]"
   ]
  },
  {
   "cell_type": "code",
   "execution_count": 16,
   "metadata": {
    "scrolled": true
   },
   "outputs": [
    {
     "name": "stderr",
     "output_type": "stream",
     "text": [
      "C:\\Users\\USER\\Anaconda3\\lib\\site-packages\\pandas\\core\\indexing.py:601: SettingWithCopyWarning: \n",
      "A value is trying to be set on a copy of a slice from a DataFrame.\n",
      "Try using .loc[row_indexer,col_indexer] = value instead\n",
      "\n",
      "See the caveats in the documentation: http://pandas.pydata.org/pandas-docs/stable/indexing.html#indexing-view-versus-copy\n",
      "  self.obj[item_labels[indexer[info_axis]]] = value\n",
      "C:\\Users\\USER\\Anaconda3\\lib\\site-packages\\pandas\\core\\indexing.py:517: SettingWithCopyWarning: \n",
      "A value is trying to be set on a copy of a slice from a DataFrame.\n",
      "Try using .loc[row_indexer,col_indexer] = value instead\n",
      "\n",
      "See the caveats in the documentation: http://pandas.pydata.org/pandas-docs/stable/indexing.html#indexing-view-versus-copy\n",
      "  self.obj[item] = s\n"
     ]
    }
   ],
   "source": [
    "#Renames, reorders and changes columns data types for teams data frame\n",
    "\n",
    "Teams_df = teams_df[['id', 'name', 'squadMarketValue', 'league_id']]\n",
    "Teams_df.loc[:,'id'], Teams_df.loc[:,'league_id'] = Teams_df.loc[:,'id'].astype(int), Teams_df.loc[:,'league_id'].astype(int)\n",
    "Teams_df.columns = [\"Team ID\", \"Team Name\", \"Team Value Mill. €\", \"League ID\"]\n",
    "Teams_df = pd.merge(Teams_df, Top_leagues_df, on= \"League ID\")\n",
    "Teams_df = Teams_df.drop(\"Number of Teams\", 1)\n",
    "Teams_df = Teams_df.sort_values(\"Team Name\")\n",
    "Teams_df = Teams_df.sort_values(\"League Name\")\n",
    "Teams_df =Teams_df.reset_index(drop=True)\n",
    "\n",
    "#Adds market value from club values data frame\n",
    "\n",
    "for x in club_values.itertuples():\n",
    "     for i in Teams_df.itertuples():\n",
    "        if x[1] in i[2]:\n",
    "            Teams_df.set_value(i[0], \"Team Value Mill. €\", x[6])\n",
    "\n",
    "Teams_df['Team Value Mill. €'].replace(regex=True,inplace=True,to_replace=r'\\D',value=r'')\n",
    "Teams_df[['Team Value Mill. €']] = Teams_df[['Team Value Mill. €']].astype(int)\n",
    "Teams_df[\"Team Value Mill. €\"] = Teams_df[\"Team Value Mill. €\"]/100"
   ]
  },
  {
   "cell_type": "code",
   "execution_count": 17,
   "metadata": {
    "collapsed": true
   },
   "outputs": [],
   "source": [
    "#Renames, reorders standings data frame\n",
    "\n",
    "Standings_df = standings_df[['position','teamName', 'wins', 'draws', 'losses', 'goals',\n",
    "                             'goalsAgainst', 'goalDifference', 'points', 'Home Wins', 'Home Losses',\n",
    "                             'Home Draws', 'Home Goals', 'Home Goals Against', 'Away Wins',\n",
    "                             'Away Draws', 'Away Losses','Away Goals', 'Away Goals Against',\n",
    "                             'crestURI']]\n",
    "Standings_df.columns=  [\"Position\",\"Team Name\", \"Wins\", \"Draws\", \"Losses\", \"Goals\",\n",
    "                        \"Goals Against\", \"Goal Difference\", \"Points\", \"Home Wins\", \"Home Losses\",\n",
    "                        \"Home Draws\", \"Home Goals\", \"Home Goals Against\", \"Away Wins\",\n",
    "                        \"Away Draws\", \"Away Losses\",\"Away Goals\", \"Away Goals Against\",\n",
    "                         \"Crest\"]"
   ]
  },
  {
   "cell_type": "code",
   "execution_count": 18,
   "metadata": {
    "collapsed": true
   },
   "outputs": [],
   "source": [
    "#Renames, reorders players data frame\n",
    "Players_df = players_df[['id', 'name', 'position', 'marketValue', 'dateOfBirth',\n",
    "                         'contractUntil', 'nationality', 'team_id', 'jerseyNumber']]\n",
    "Players_df.loc[:,'id'], Players_df.loc[:,'team_id'] = Players_df.loc[:,'id'].astype(int), Players_df.loc[:,'team_id'].astype(int)\n",
    "Players_df.columns = [\"Player Id\", \"Name\", \"Position\", \"Market Value\", \"Date of Birth\",\n",
    "                      \"Contract Until\", \"Nationality\", \"Team ID\", \"Jersey Number\"]\n",
    "Players_df = pd.merge(Players_df, Teams_df, on= \"Team ID\")\n",
    "Players_df = Players_df.drop([\"Country\", \"League ID\", \"Team Value Mill. €\"], 1)\n",
    "Players_df = Players_df.sort_values(\"Name\")\n",
    "Players_df = Players_df.sort_values(\"League Name\")"
   ]
  },
  {
   "cell_type": "code",
   "execution_count": 19,
   "metadata": {},
   "outputs": [
    {
     "name": "stderr",
     "output_type": "stream",
     "text": [
      "C:\\Users\\USER\\Anaconda3\\lib\\site-packages\\ipykernel_launcher.py:11: UserWarning: Boolean Series key will be reindexed to match DataFrame index.\n",
      "  # This is added back by InteractiveShellApp.init_path()\n",
      "C:\\Users\\USER\\Anaconda3\\lib\\site-packages\\ipykernel_launcher.py:12: UserWarning: Boolean Series key will be reindexed to match DataFrame index.\n",
      "  if sys.path[0] == '':\n",
      "C:\\Users\\USER\\Anaconda3\\lib\\site-packages\\ipykernel_launcher.py:13: UserWarning: Boolean Series key will be reindexed to match DataFrame index.\n",
      "  del sys.path[0]\n",
      "C:\\Users\\USER\\Anaconda3\\lib\\site-packages\\ipykernel_launcher.py:14: UserWarning: Boolean Series key will be reindexed to match DataFrame index.\n",
      "  \n",
      "C:\\Users\\USER\\Anaconda3\\lib\\site-packages\\ipykernel_launcher.py:15: UserWarning: Boolean Series key will be reindexed to match DataFrame index.\n",
      "  from ipykernel import kernelapp as app\n",
      "C:\\Users\\USER\\Anaconda3\\lib\\site-packages\\ipykernel_launcher.py:24: UserWarning: Boolean Series key will be reindexed to match DataFrame index.\n",
      "C:\\Users\\USER\\Anaconda3\\lib\\site-packages\\ipykernel_launcher.py:25: UserWarning: Boolean Series key will be reindexed to match DataFrame index.\n",
      "C:\\Users\\USER\\Anaconda3\\lib\\site-packages\\ipykernel_launcher.py:26: UserWarning: Boolean Series key will be reindexed to match DataFrame index.\n",
      "C:\\Users\\USER\\Anaconda3\\lib\\site-packages\\ipykernel_launcher.py:27: UserWarning: Boolean Series key will be reindexed to match DataFrame index.\n",
      "C:\\Users\\USER\\Anaconda3\\lib\\site-packages\\ipykernel_launcher.py:28: UserWarning: Boolean Series key will be reindexed to match DataFrame index.\n",
      "C:\\Users\\USER\\Anaconda3\\lib\\site-packages\\ipykernel_launcher.py:38: SettingWithCopyWarning: \n",
      "A value is trying to be set on a copy of a slice from a DataFrame.\n",
      "Try using .loc[row_indexer,col_indexer] = value instead\n",
      "\n",
      "See the caveats in the documentation: http://pandas.pydata.org/pandas-docs/stable/indexing.html#indexing-view-versus-copy\n"
     ]
    }
   ],
   "source": [
    "#Creates Team Stat Summary Data Frame and Includes Column if Qualified or in Play-off Round\n",
    "\n",
    "summary_df = pd.merge(Standings_df, Teams_df, on= \"Team Name\")\n",
    "summary_df = summary_df.drop(['Home Wins',\n",
    "       'Home Losses', 'Home Draws', 'Home Goals', 'Home Goals Against',\n",
    "       'Away Wins', 'Away Draws', 'Away Losses', 'Away Goals',\n",
    "       'Away Goals Against', 'Crest', 'Team ID','League ID', 'Country'], 1)\n",
    "\n",
    "#Creates Data Frame of Teams Automatically Qualified for Champions League Group Stage\n",
    "\n",
    "PL = summary_df[summary_df[\"League Name\"]=='Premier League'][summary_df[\"Position\"].isin([1,2,3])]\n",
    "PD = summary_df[summary_df[\"League Name\"]=='Primera Division'][summary_df[\"Position\"].isin([1,2,3])]\n",
    "BL = summary_df[summary_df[\"League Name\"]=='1. Bundesliga'][summary_df[\"Position\"].isin([1,2,3])]\n",
    "SA = summary_df[summary_df[\"League Name\"]=='Serie A'][summary_df[\"Position\"].isin([1,2])]\n",
    "FL = summary_df[summary_df[\"League Name\"]=='Ligue 1'][summary_df[\"Position\"].isin([1,2])]\n",
    "CL_teams = PL.append(PD, ignore_index=True)\n",
    "CL_teams = CL_teams.append(BL, ignore_index=True)\n",
    "CL_teams = CL_teams.append(SA, ignore_index=True)\n",
    "CL_teams = CL_teams.append(FL, ignore_index=True)\n",
    "CL_teams[\"Champions League\"] = \"Yes\"\n",
    "\n",
    "#Creates Data Frame of Teams on Champions League Play-off Round\n",
    "\n",
    "PLR = summary_df[summary_df[\"League Name\"]=='Premier League'][summary_df[\"Position\"].isin([4])]\n",
    "PDR = summary_df[summary_df[\"League Name\"]=='Primera Division'][summary_df[\"Position\"].isin([4])]\n",
    "BLR = summary_df[summary_df[\"League Name\"]=='1. Bundesliga'][summary_df[\"Position\"].isin([4])]\n",
    "SAR = summary_df[summary_df[\"League Name\"]=='Serie A'][summary_df[\"Position\"].isin([3])]\n",
    "FLR = summary_df[summary_df[\"League Name\"]=='Ligue 1'][summary_df[\"Position\"].isin([3])]\n",
    "CR_teams = PLR.append(PDR, ignore_index=True)\n",
    "CR_teams = CR_teams.append(BLR, ignore_index=True)\n",
    "CR_teams = CR_teams.append(SAR, ignore_index=True)\n",
    "CR_teams = CR_teams.append(FLR, ignore_index=True)\n",
    "CR_teams[\"Champions League\"] = \"Yes\"\n",
    "\n",
    "#Creates Data Frame of Europa League Winner (Qualifies Automatically to Champions League)\n",
    "\n",
    "EL_team = summary_df[summary_df[\"Team Name\"]=='Manchester United FC']\n",
    "EL_team[\"Champions League\"] = \"Yes\"\n",
    "\n",
    "#Creates Data Frame of Teams Not Qualified to Champions League\n",
    "\n",
    "No_CL = summary_df[summary_df[\"Position\"]>3]\n",
    "No_CL = No_CL[No_CL[\"Team Name\"]!='Liverpool FC']\n",
    "No_CL = No_CL[No_CL[\"Team Name\"]!='TSG 1899 Hoffenheim']\n",
    "No_CL = No_CL[No_CL[\"Team Name\"]!='Sevilla FC']\n",
    "No_CL = No_CL[No_CL[\"Team Name\"]!='Manchester United FC']\n",
    "No_CL[\"Champions League\"] = \"No\"\n",
    "\n",
    "#Combines Data Frames into Summary DF\n",
    "\n",
    "Summary_df = CL_teams.append(CR_teams, ignore_index=True)\n",
    "Summary_df = Summary_df.append(EL_team, ignore_index=True)\n",
    "Summary_df = Summary_df.append(No_CL, ignore_index=True)\n",
    "Summary_df = Summary_df.sort_values([\"League Name\", \"Position\"])\n",
    "Summary_df = Summary_df.reset_index(drop=True)\n",
    "Summary_df.loc[43, \"Champions League\"] =\"Yes\""
   ]
  },
  {
   "cell_type": "markdown",
   "metadata": {},
   "source": [
    "# Output Tables"
   ]
  },
  {
   "cell_type": "markdown",
   "metadata": {
    "collapsed": true
   },
   "source": [
    "Top Leagues Table&nbsp;&nbsp;&nbsp;&nbsp;&nbsp;&nbsp;\n",
    "Shape : 5 x 4\n",
    "\n"
   ]
  },
  {
   "cell_type": "code",
   "execution_count": 20,
   "metadata": {},
   "outputs": [
    {
     "data": {
      "text/html": [
       "<div>\n",
       "<style>\n",
       "    .dataframe thead tr:only-child th {\n",
       "        text-align: right;\n",
       "    }\n",
       "\n",
       "    .dataframe thead th {\n",
       "        text-align: left;\n",
       "    }\n",
       "\n",
       "    .dataframe tbody tr th {\n",
       "        vertical-align: top;\n",
       "    }\n",
       "</style>\n",
       "<table border=\"1\" class=\"dataframe\">\n",
       "  <thead>\n",
       "    <tr style=\"text-align: right;\">\n",
       "      <th></th>\n",
       "      <th>League ID</th>\n",
       "      <th>League Name</th>\n",
       "      <th>Number of Teams</th>\n",
       "      <th>Country</th>\n",
       "    </tr>\n",
       "  </thead>\n",
       "  <tbody>\n",
       "    <tr>\n",
       "      <th>0</th>\n",
       "      <td>426</td>\n",
       "      <td>Premier League</td>\n",
       "      <td>20</td>\n",
       "      <td>United Kingdom</td>\n",
       "    </tr>\n",
       "    <tr>\n",
       "      <th>1</th>\n",
       "      <td>430</td>\n",
       "      <td>1. Bundesliga</td>\n",
       "      <td>18</td>\n",
       "      <td>Germany</td>\n",
       "    </tr>\n",
       "    <tr>\n",
       "      <th>2</th>\n",
       "      <td>434</td>\n",
       "      <td>Ligue 1</td>\n",
       "      <td>20</td>\n",
       "      <td>France</td>\n",
       "    </tr>\n",
       "    <tr>\n",
       "      <th>3</th>\n",
       "      <td>436</td>\n",
       "      <td>Primera Division</td>\n",
       "      <td>20</td>\n",
       "      <td>Spain</td>\n",
       "    </tr>\n",
       "    <tr>\n",
       "      <th>4</th>\n",
       "      <td>438</td>\n",
       "      <td>Serie A</td>\n",
       "      <td>20</td>\n",
       "      <td>Italy</td>\n",
       "    </tr>\n",
       "  </tbody>\n",
       "</table>\n",
       "</div>"
      ],
      "text/plain": [
       "   League ID       League Name  Number of Teams         Country\n",
       "0        426    Premier League               20  United Kingdom\n",
       "1        430     1. Bundesliga               18         Germany\n",
       "2        434           Ligue 1               20          France\n",
       "3        436  Primera Division               20           Spain\n",
       "4        438           Serie A               20           Italy"
      ]
     },
     "execution_count": 20,
     "metadata": {},
     "output_type": "execute_result"
    }
   ],
   "source": [
    "Top_leagues_df.head(5)"
   ]
  },
  {
   "cell_type": "markdown",
   "metadata": {},
   "source": [
    "."
   ]
  },
  {
   "cell_type": "markdown",
   "metadata": {},
   "source": [
    "Teams Table&nbsp;&nbsp;&nbsp;&nbsp;&nbsp;&nbsp;\n",
    "Shape : 98 x 6\n"
   ]
  },
  {
   "cell_type": "code",
   "execution_count": 21,
   "metadata": {},
   "outputs": [
    {
     "data": {
      "text/html": [
       "<div>\n",
       "<style>\n",
       "    .dataframe thead tr:only-child th {\n",
       "        text-align: right;\n",
       "    }\n",
       "\n",
       "    .dataframe thead th {\n",
       "        text-align: left;\n",
       "    }\n",
       "\n",
       "    .dataframe tbody tr th {\n",
       "        vertical-align: top;\n",
       "    }\n",
       "</style>\n",
       "<table border=\"1\" class=\"dataframe\">\n",
       "  <thead>\n",
       "    <tr style=\"text-align: right;\">\n",
       "      <th></th>\n",
       "      <th>Team ID</th>\n",
       "      <th>Team Name</th>\n",
       "      <th>Team Value Mill. €</th>\n",
       "      <th>League ID</th>\n",
       "      <th>League Name</th>\n",
       "      <th>Country</th>\n",
       "    </tr>\n",
       "  </thead>\n",
       "  <tbody>\n",
       "    <tr>\n",
       "      <th>0</th>\n",
       "      <td>1</td>\n",
       "      <td>1. FC Köln</td>\n",
       "      <td>112.85</td>\n",
       "      <td>430</td>\n",
       "      <td>1. Bundesliga</td>\n",
       "      <td>Germany</td>\n",
       "    </tr>\n",
       "    <tr>\n",
       "      <th>1</th>\n",
       "      <td>721</td>\n",
       "      <td>Red Bull Leipzig</td>\n",
       "      <td>163.38</td>\n",
       "      <td>430</td>\n",
       "      <td>1. Bundesliga</td>\n",
       "      <td>Germany</td>\n",
       "    </tr>\n",
       "    <tr>\n",
       "      <th>2</th>\n",
       "      <td>17</td>\n",
       "      <td>SC Freiburg</td>\n",
       "      <td>81.85</td>\n",
       "      <td>430</td>\n",
       "      <td>1. Bundesliga</td>\n",
       "      <td>Germany</td>\n",
       "    </tr>\n",
       "    <tr>\n",
       "      <th>3</th>\n",
       "      <td>16</td>\n",
       "      <td>FC Augsburg</td>\n",
       "      <td>58.73</td>\n",
       "      <td>430</td>\n",
       "      <td>1. Bundesliga</td>\n",
       "      <td>Germany</td>\n",
       "    </tr>\n",
       "    <tr>\n",
       "      <th>4</th>\n",
       "      <td>55</td>\n",
       "      <td>SV Darmstadt 98</td>\n",
       "      <td>20.40</td>\n",
       "      <td>430</td>\n",
       "      <td>1. Bundesliga</td>\n",
       "      <td>Germany</td>\n",
       "    </tr>\n",
       "  </tbody>\n",
       "</table>\n",
       "</div>"
      ],
      "text/plain": [
       "   Team ID         Team Name  Team Value Mill. €  League ID    League Name  \\\n",
       "0        1        1. FC Köln              112.85        430  1. Bundesliga   \n",
       "1      721  Red Bull Leipzig              163.38        430  1. Bundesliga   \n",
       "2       17       SC Freiburg               81.85        430  1. Bundesliga   \n",
       "3       16       FC Augsburg               58.73        430  1. Bundesliga   \n",
       "4       55   SV Darmstadt 98               20.40        430  1. Bundesliga   \n",
       "\n",
       "   Country  \n",
       "0  Germany  \n",
       "1  Germany  \n",
       "2  Germany  \n",
       "3  Germany  \n",
       "4  Germany  "
      ]
     },
     "execution_count": 21,
     "metadata": {},
     "output_type": "execute_result"
    }
   ],
   "source": [
    "Teams_df.head(5)"
   ]
  },
  {
   "cell_type": "markdown",
   "metadata": {},
   "source": [
    "."
   ]
  },
  {
   "cell_type": "markdown",
   "metadata": {
    "collapsed": true
   },
   "source": [
    "Standings Leagues Table&nbsp;&nbsp;&nbsp;&nbsp;&nbsp;&nbsp;\n",
    "Shape : 98 x 22\n",
    "\n",
    "Columns ='Away Draws', 'Away Goals', 'Away Goals Against', 'Away Losses',\n",
    "       'Away Wins', 'Home Draws', 'Home Goals', 'Home Goals Against',\n",
    "       'Home Losses', 'Home Wins', 'crestURI', 'draws', 'goalDifference',\n",
    "       'goals', 'goalsAgainst', 'league_id', 'losses', 'playedGames', 'points',\n",
    "       'position', 'teamName', 'wins'\n"
   ]
  },
  {
   "cell_type": "code",
   "execution_count": 22,
   "metadata": {},
   "outputs": [
    {
     "data": {
      "text/html": [
       "<div>\n",
       "<style>\n",
       "    .dataframe thead tr:only-child th {\n",
       "        text-align: right;\n",
       "    }\n",
       "\n",
       "    .dataframe thead th {\n",
       "        text-align: left;\n",
       "    }\n",
       "\n",
       "    .dataframe tbody tr th {\n",
       "        vertical-align: top;\n",
       "    }\n",
       "</style>\n",
       "<table border=\"1\" class=\"dataframe\">\n",
       "  <thead>\n",
       "    <tr style=\"text-align: right;\">\n",
       "      <th></th>\n",
       "      <th>Position</th>\n",
       "      <th>Team Name</th>\n",
       "      <th>Wins</th>\n",
       "      <th>Draws</th>\n",
       "      <th>Losses</th>\n",
       "      <th>Goals</th>\n",
       "      <th>Goals Against</th>\n",
       "      <th>Goal Difference</th>\n",
       "      <th>Points</th>\n",
       "      <th>Home Wins</th>\n",
       "      <th>Home Losses</th>\n",
       "      <th>Home Draws</th>\n",
       "      <th>Home Goals</th>\n",
       "      <th>Home Goals Against</th>\n",
       "      <th>Away Wins</th>\n",
       "      <th>Away Draws</th>\n",
       "      <th>Away Losses</th>\n",
       "      <th>Away Goals</th>\n",
       "      <th>Away Goals Against</th>\n",
       "      <th>Crest</th>\n",
       "    </tr>\n",
       "  </thead>\n",
       "  <tbody>\n",
       "    <tr>\n",
       "      <th>0</th>\n",
       "      <td>1.0</td>\n",
       "      <td>Chelsea FC</td>\n",
       "      <td>30.0</td>\n",
       "      <td>3.0</td>\n",
       "      <td>5.0</td>\n",
       "      <td>85.0</td>\n",
       "      <td>33.0</td>\n",
       "      <td>52.0</td>\n",
       "      <td>93.0</td>\n",
       "      <td>17</td>\n",
       "      <td>2</td>\n",
       "      <td>0</td>\n",
       "      <td>55</td>\n",
       "      <td>17</td>\n",
       "      <td>13.0</td>\n",
       "      <td>3.0</td>\n",
       "      <td>3.0</td>\n",
       "      <td>30.0</td>\n",
       "      <td>16.0</td>\n",
       "      <td>http://upload.wikimedia.org/wikipedia/de/5/5c/...</td>\n",
       "    </tr>\n",
       "    <tr>\n",
       "      <th>1</th>\n",
       "      <td>2.0</td>\n",
       "      <td>Tottenham Hotspur FC</td>\n",
       "      <td>26.0</td>\n",
       "      <td>8.0</td>\n",
       "      <td>4.0</td>\n",
       "      <td>86.0</td>\n",
       "      <td>26.0</td>\n",
       "      <td>60.0</td>\n",
       "      <td>86.0</td>\n",
       "      <td>17</td>\n",
       "      <td>0</td>\n",
       "      <td>2</td>\n",
       "      <td>47</td>\n",
       "      <td>9</td>\n",
       "      <td>9.0</td>\n",
       "      <td>6.0</td>\n",
       "      <td>4.0</td>\n",
       "      <td>39.0</td>\n",
       "      <td>17.0</td>\n",
       "      <td>http://upload.wikimedia.org/wikipedia/de/b/b4/...</td>\n",
       "    </tr>\n",
       "    <tr>\n",
       "      <th>2</th>\n",
       "      <td>3.0</td>\n",
       "      <td>Manchester City FC</td>\n",
       "      <td>23.0</td>\n",
       "      <td>9.0</td>\n",
       "      <td>6.0</td>\n",
       "      <td>80.0</td>\n",
       "      <td>39.0</td>\n",
       "      <td>41.0</td>\n",
       "      <td>78.0</td>\n",
       "      <td>11</td>\n",
       "      <td>1</td>\n",
       "      <td>7</td>\n",
       "      <td>37</td>\n",
       "      <td>17</td>\n",
       "      <td>12.0</td>\n",
       "      <td>2.0</td>\n",
       "      <td>5.0</td>\n",
       "      <td>43.0</td>\n",
       "      <td>22.0</td>\n",
       "      <td>https://upload.wikimedia.org/wikipedia/en/e/eb...</td>\n",
       "    </tr>\n",
       "    <tr>\n",
       "      <th>3</th>\n",
       "      <td>4.0</td>\n",
       "      <td>Liverpool FC</td>\n",
       "      <td>22.0</td>\n",
       "      <td>10.0</td>\n",
       "      <td>6.0</td>\n",
       "      <td>78.0</td>\n",
       "      <td>42.0</td>\n",
       "      <td>36.0</td>\n",
       "      <td>76.0</td>\n",
       "      <td>12</td>\n",
       "      <td>2</td>\n",
       "      <td>5</td>\n",
       "      <td>45</td>\n",
       "      <td>18</td>\n",
       "      <td>10.0</td>\n",
       "      <td>5.0</td>\n",
       "      <td>4.0</td>\n",
       "      <td>33.0</td>\n",
       "      <td>24.0</td>\n",
       "      <td>http://upload.wikimedia.org/wikipedia/de/0/0a/...</td>\n",
       "    </tr>\n",
       "    <tr>\n",
       "      <th>4</th>\n",
       "      <td>5.0</td>\n",
       "      <td>Arsenal FC</td>\n",
       "      <td>23.0</td>\n",
       "      <td>6.0</td>\n",
       "      <td>9.0</td>\n",
       "      <td>77.0</td>\n",
       "      <td>44.0</td>\n",
       "      <td>33.0</td>\n",
       "      <td>75.0</td>\n",
       "      <td>14</td>\n",
       "      <td>2</td>\n",
       "      <td>3</td>\n",
       "      <td>39</td>\n",
       "      <td>16</td>\n",
       "      <td>9.0</td>\n",
       "      <td>3.0</td>\n",
       "      <td>7.0</td>\n",
       "      <td>38.0</td>\n",
       "      <td>28.0</td>\n",
       "      <td>http://upload.wikimedia.org/wikipedia/en/5/53/...</td>\n",
       "    </tr>\n",
       "  </tbody>\n",
       "</table>\n",
       "</div>"
      ],
      "text/plain": [
       "   Position             Team Name  Wins  Draws  Losses  Goals  Goals Against  \\\n",
       "0       1.0            Chelsea FC  30.0    3.0     5.0   85.0           33.0   \n",
       "1       2.0  Tottenham Hotspur FC  26.0    8.0     4.0   86.0           26.0   \n",
       "2       3.0    Manchester City FC  23.0    9.0     6.0   80.0           39.0   \n",
       "3       4.0          Liverpool FC  22.0   10.0     6.0   78.0           42.0   \n",
       "4       5.0            Arsenal FC  23.0    6.0     9.0   77.0           44.0   \n",
       "\n",
       "   Goal Difference  Points Home Wins Home Losses Home Draws Home Goals  \\\n",
       "0             52.0    93.0        17           2          0         55   \n",
       "1             60.0    86.0        17           0          2         47   \n",
       "2             41.0    78.0        11           1          7         37   \n",
       "3             36.0    76.0        12           2          5         45   \n",
       "4             33.0    75.0        14           2          3         39   \n",
       "\n",
       "  Home Goals Against  Away Wins  Away Draws  Away Losses  Away Goals  \\\n",
       "0                 17       13.0         3.0          3.0        30.0   \n",
       "1                  9        9.0         6.0          4.0        39.0   \n",
       "2                 17       12.0         2.0          5.0        43.0   \n",
       "3                 18       10.0         5.0          4.0        33.0   \n",
       "4                 16        9.0         3.0          7.0        38.0   \n",
       "\n",
       "   Away Goals Against                                              Crest  \n",
       "0                16.0  http://upload.wikimedia.org/wikipedia/de/5/5c/...  \n",
       "1                17.0  http://upload.wikimedia.org/wikipedia/de/b/b4/...  \n",
       "2                22.0  https://upload.wikimedia.org/wikipedia/en/e/eb...  \n",
       "3                24.0  http://upload.wikimedia.org/wikipedia/de/0/0a/...  \n",
       "4                28.0  http://upload.wikimedia.org/wikipedia/en/5/53/...  "
      ]
     },
     "execution_count": 22,
     "metadata": {},
     "output_type": "execute_result"
    }
   ],
   "source": [
    "Standings_df.head(5)"
   ]
  },
  {
   "cell_type": "markdown",
   "metadata": {},
   "source": [
    "."
   ]
  },
  {
   "cell_type": "markdown",
   "metadata": {},
   "source": [
    "Players Table&nbsp;&nbsp;&nbsp;&nbsp;&nbsp;&nbsp;\n",
    "Shape : 2465 x 11\n"
   ]
  },
  {
   "cell_type": "code",
   "execution_count": 23,
   "metadata": {},
   "outputs": [
    {
     "data": {
      "text/html": [
       "<div>\n",
       "<style>\n",
       "    .dataframe thead tr:only-child th {\n",
       "        text-align: right;\n",
       "    }\n",
       "\n",
       "    .dataframe thead th {\n",
       "        text-align: left;\n",
       "    }\n",
       "\n",
       "    .dataframe tbody tr th {\n",
       "        vertical-align: top;\n",
       "    }\n",
       "</style>\n",
       "<table border=\"1\" class=\"dataframe\">\n",
       "  <thead>\n",
       "    <tr style=\"text-align: right;\">\n",
       "      <th></th>\n",
       "      <th>Player Id</th>\n",
       "      <th>Name</th>\n",
       "      <th>Position</th>\n",
       "      <th>Market Value</th>\n",
       "      <th>Date of Birth</th>\n",
       "      <th>Contract Until</th>\n",
       "      <th>Nationality</th>\n",
       "      <th>Team ID</th>\n",
       "      <th>Jersey Number</th>\n",
       "      <th>Team Name</th>\n",
       "      <th>League Name</th>\n",
       "    </tr>\n",
       "  </thead>\n",
       "  <tbody>\n",
       "    <tr>\n",
       "      <th>419</th>\n",
       "      <td>839</td>\n",
       "      <td>Örjan Nyland</td>\n",
       "      <td>Keeper</td>\n",
       "      <td>None</td>\n",
       "      <td>1990-09-10</td>\n",
       "      <td>2019-06-30</td>\n",
       "      <td>Norway</td>\n",
       "      <td>31</td>\n",
       "      <td>1</td>\n",
       "      <td>FC Ingolstadt 04</td>\n",
       "      <td>1. Bundesliga</td>\n",
       "    </tr>\n",
       "    <tr>\n",
       "      <th>418</th>\n",
       "      <td>838</td>\n",
       "      <td>Martin Hansen</td>\n",
       "      <td>Keeper</td>\n",
       "      <td>None</td>\n",
       "      <td>1990-06-15</td>\n",
       "      <td>2020-06-30</td>\n",
       "      <td>Denmark</td>\n",
       "      <td>31</td>\n",
       "      <td>35</td>\n",
       "      <td>FC Ingolstadt 04</td>\n",
       "      <td>1. Bundesliga</td>\n",
       "    </tr>\n",
       "    <tr>\n",
       "      <th>229</th>\n",
       "      <td>679</td>\n",
       "      <td>Daniel Didavi</td>\n",
       "      <td>Attacking Midfield</td>\n",
       "      <td>None</td>\n",
       "      <td>1990-02-21</td>\n",
       "      <td>2021-06-30</td>\n",
       "      <td>Germany</td>\n",
       "      <td>11</td>\n",
       "      <td>11</td>\n",
       "      <td>VfL Wolfsburg</td>\n",
       "      <td>1. Bundesliga</td>\n",
       "    </tr>\n",
       "    <tr>\n",
       "      <th>426</th>\n",
       "      <td>846</td>\n",
       "      <td>Markus Suttner</td>\n",
       "      <td>Left-Back</td>\n",
       "      <td>None</td>\n",
       "      <td>1987-04-16</td>\n",
       "      <td>2018-06-30</td>\n",
       "      <td>Austria</td>\n",
       "      <td>31</td>\n",
       "      <td>29</td>\n",
       "      <td>FC Ingolstadt 04</td>\n",
       "      <td>1. Bundesliga</td>\n",
       "    </tr>\n",
       "    <tr>\n",
       "      <th>445</th>\n",
       "      <td>885</td>\n",
       "      <td>Daniel Heuer Fernandes</td>\n",
       "      <td>Keeper</td>\n",
       "      <td>None</td>\n",
       "      <td>1992-11-13</td>\n",
       "      <td>2018-06-30</td>\n",
       "      <td>Portugal</td>\n",
       "      <td>55</td>\n",
       "      <td>1</td>\n",
       "      <td>SV Darmstadt 98</td>\n",
       "      <td>1. Bundesliga</td>\n",
       "    </tr>\n",
       "  </tbody>\n",
       "</table>\n",
       "</div>"
      ],
      "text/plain": [
       "     Player Id                    Name            Position Market Value  \\\n",
       "419        839            Örjan Nyland              Keeper         None   \n",
       "418        838           Martin Hansen              Keeper         None   \n",
       "229        679           Daniel Didavi  Attacking Midfield         None   \n",
       "426        846          Markus Suttner           Left-Back         None   \n",
       "445        885  Daniel Heuer Fernandes              Keeper         None   \n",
       "\n",
       "    Date of Birth Contract Until Nationality  Team ID Jersey Number  \\\n",
       "419    1990-09-10     2019-06-30      Norway       31             1   \n",
       "418    1990-06-15     2020-06-30     Denmark       31            35   \n",
       "229    1990-02-21     2021-06-30     Germany       11            11   \n",
       "426    1987-04-16     2018-06-30     Austria       31            29   \n",
       "445    1992-11-13     2018-06-30    Portugal       55             1   \n",
       "\n",
       "            Team Name    League Name  \n",
       "419  FC Ingolstadt 04  1. Bundesliga  \n",
       "418  FC Ingolstadt 04  1. Bundesliga  \n",
       "229     VfL Wolfsburg  1. Bundesliga  \n",
       "426  FC Ingolstadt 04  1. Bundesliga  \n",
       "445   SV Darmstadt 98  1. Bundesliga  "
      ]
     },
     "execution_count": 23,
     "metadata": {},
     "output_type": "execute_result"
    }
   ],
   "source": [
    "Players_df.head(5)"
   ]
  },
  {
   "cell_type": "markdown",
   "metadata": {},
   "source": [
    "."
   ]
  },
  {
   "cell_type": "markdown",
   "metadata": {
    "collapsed": true
   },
   "source": [
    "Summary Table&nbsp;&nbsp;&nbsp;&nbsp;&nbsp;&nbsp;\n",
    "Shape : 98 x 11"
   ]
  },
  {
   "cell_type": "code",
   "execution_count": 24,
   "metadata": {},
   "outputs": [
    {
     "data": {
      "text/html": [
       "<div>\n",
       "<style>\n",
       "    .dataframe thead tr:only-child th {\n",
       "        text-align: right;\n",
       "    }\n",
       "\n",
       "    .dataframe thead th {\n",
       "        text-align: left;\n",
       "    }\n",
       "\n",
       "    .dataframe tbody tr th {\n",
       "        vertical-align: top;\n",
       "    }\n",
       "</style>\n",
       "<table border=\"1\" class=\"dataframe\">\n",
       "  <thead>\n",
       "    <tr style=\"text-align: right;\">\n",
       "      <th></th>\n",
       "      <th>Position</th>\n",
       "      <th>Team Name</th>\n",
       "      <th>Wins</th>\n",
       "      <th>Draws</th>\n",
       "      <th>Losses</th>\n",
       "      <th>Goals</th>\n",
       "      <th>Goals Against</th>\n",
       "      <th>Goal Difference</th>\n",
       "      <th>Points</th>\n",
       "      <th>Team Value Mill. €</th>\n",
       "      <th>League Name</th>\n",
       "      <th>Champions League</th>\n",
       "    </tr>\n",
       "  </thead>\n",
       "  <tbody>\n",
       "    <tr>\n",
       "      <th>0</th>\n",
       "      <td>1.0</td>\n",
       "      <td>FC Bayern München</td>\n",
       "      <td>25.0</td>\n",
       "      <td>7.0</td>\n",
       "      <td>2.0</td>\n",
       "      <td>89.0</td>\n",
       "      <td>22.0</td>\n",
       "      <td>67.0</td>\n",
       "      <td>82.0</td>\n",
       "      <td>542.65</td>\n",
       "      <td>1. Bundesliga</td>\n",
       "      <td>Yes</td>\n",
       "    </tr>\n",
       "    <tr>\n",
       "      <th>1</th>\n",
       "      <td>2.0</td>\n",
       "      <td>Red Bull Leipzig</td>\n",
       "      <td>20.0</td>\n",
       "      <td>7.0</td>\n",
       "      <td>7.0</td>\n",
       "      <td>66.0</td>\n",
       "      <td>39.0</td>\n",
       "      <td>27.0</td>\n",
       "      <td>67.0</td>\n",
       "      <td>163.38</td>\n",
       "      <td>1. Bundesliga</td>\n",
       "      <td>Yes</td>\n",
       "    </tr>\n",
       "    <tr>\n",
       "      <th>2</th>\n",
       "      <td>3.0</td>\n",
       "      <td>Borussia Dortmund</td>\n",
       "      <td>18.0</td>\n",
       "      <td>10.0</td>\n",
       "      <td>6.0</td>\n",
       "      <td>72.0</td>\n",
       "      <td>40.0</td>\n",
       "      <td>32.0</td>\n",
       "      <td>64.0</td>\n",
       "      <td>380.65</td>\n",
       "      <td>1. Bundesliga</td>\n",
       "      <td>Yes</td>\n",
       "    </tr>\n",
       "    <tr>\n",
       "      <th>3</th>\n",
       "      <td>4.0</td>\n",
       "      <td>TSG 1899 Hoffenheim</td>\n",
       "      <td>16.0</td>\n",
       "      <td>14.0</td>\n",
       "      <td>4.0</td>\n",
       "      <td>64.0</td>\n",
       "      <td>37.0</td>\n",
       "      <td>27.0</td>\n",
       "      <td>62.0</td>\n",
       "      <td>128.88</td>\n",
       "      <td>1. Bundesliga</td>\n",
       "      <td>Yes</td>\n",
       "    </tr>\n",
       "    <tr>\n",
       "      <th>4</th>\n",
       "      <td>5.0</td>\n",
       "      <td>1. FC Köln</td>\n",
       "      <td>12.0</td>\n",
       "      <td>13.0</td>\n",
       "      <td>9.0</td>\n",
       "      <td>51.0</td>\n",
       "      <td>42.0</td>\n",
       "      <td>9.0</td>\n",
       "      <td>49.0</td>\n",
       "      <td>112.85</td>\n",
       "      <td>1. Bundesliga</td>\n",
       "      <td>No</td>\n",
       "    </tr>\n",
       "  </tbody>\n",
       "</table>\n",
       "</div>"
      ],
      "text/plain": [
       "   Position            Team Name  Wins  Draws  Losses  Goals  Goals Against  \\\n",
       "0       1.0    FC Bayern München  25.0    7.0     2.0   89.0           22.0   \n",
       "1       2.0     Red Bull Leipzig  20.0    7.0     7.0   66.0           39.0   \n",
       "2       3.0    Borussia Dortmund  18.0   10.0     6.0   72.0           40.0   \n",
       "3       4.0  TSG 1899 Hoffenheim  16.0   14.0     4.0   64.0           37.0   \n",
       "4       5.0           1. FC Köln  12.0   13.0     9.0   51.0           42.0   \n",
       "\n",
       "   Goal Difference  Points  Team Value Mill. €    League Name Champions League  \n",
       "0             67.0    82.0              542.65  1. Bundesliga              Yes  \n",
       "1             27.0    67.0              163.38  1. Bundesliga              Yes  \n",
       "2             32.0    64.0              380.65  1. Bundesliga              Yes  \n",
       "3             27.0    62.0              128.88  1. Bundesliga              Yes  \n",
       "4              9.0    49.0              112.85  1. Bundesliga               No  "
      ]
     },
     "execution_count": 24,
     "metadata": {},
     "output_type": "execute_result"
    }
   ],
   "source": [
    "Summary_df.head(5)"
   ]
  },
  {
   "cell_type": "code",
   "execution_count": 25,
   "metadata": {
    "scrolled": false
   },
   "outputs": [
    {
     "data": {
      "text/html": [
       "<div>\n",
       "<style>\n",
       "    .dataframe thead tr:only-child th {\n",
       "        text-align: right;\n",
       "    }\n",
       "\n",
       "    .dataframe thead th {\n",
       "        text-align: left;\n",
       "    }\n",
       "\n",
       "    .dataframe tbody tr th {\n",
       "        vertical-align: top;\n",
       "    }\n",
       "</style>\n",
       "<table border=\"1\" class=\"dataframe\">\n",
       "  <thead>\n",
       "    <tr style=\"text-align: right;\">\n",
       "      <th></th>\n",
       "      <th>Season</th>\n",
       "      <th>Total Market Value</th>\n",
       "      <th>Matches</th>\n",
       "      <th>Wins</th>\n",
       "      <th>Draws</th>\n",
       "      <th>Losses</th>\n",
       "      <th>Points</th>\n",
       "    </tr>\n",
       "  </thead>\n",
       "  <tbody>\n",
       "    <tr>\n",
       "      <th>0</th>\n",
       "      <td>2009/2010</td>\n",
       "      <td>281.000</td>\n",
       "      <td>38</td>\n",
       "      <td>23</td>\n",
       "      <td>6</td>\n",
       "      <td>9</td>\n",
       "      <td>75</td>\n",
       "    </tr>\n",
       "    <tr>\n",
       "      <th>1</th>\n",
       "      <td>2010/2011</td>\n",
       "      <td>304.375</td>\n",
       "      <td>38</td>\n",
       "      <td>19</td>\n",
       "      <td>11</td>\n",
       "      <td>8</td>\n",
       "      <td>68</td>\n",
       "    </tr>\n",
       "    <tr>\n",
       "      <th>2</th>\n",
       "      <td>2011/2012</td>\n",
       "      <td>312.925</td>\n",
       "      <td>38</td>\n",
       "      <td>21</td>\n",
       "      <td>7</td>\n",
       "      <td>10</td>\n",
       "      <td>70</td>\n",
       "    </tr>\n",
       "    <tr>\n",
       "      <th>3</th>\n",
       "      <td>2012/2013</td>\n",
       "      <td>293.750</td>\n",
       "      <td>38</td>\n",
       "      <td>21</td>\n",
       "      <td>10</td>\n",
       "      <td>7</td>\n",
       "      <td>73</td>\n",
       "    </tr>\n",
       "    <tr>\n",
       "      <th>4</th>\n",
       "      <td>2013/2014</td>\n",
       "      <td>341.200</td>\n",
       "      <td>38</td>\n",
       "      <td>24</td>\n",
       "      <td>7</td>\n",
       "      <td>7</td>\n",
       "      <td>79</td>\n",
       "    </tr>\n",
       "  </tbody>\n",
       "</table>\n",
       "</div>"
      ],
      "text/plain": [
       "      Season  Total Market Value Matches Wins Draws Losses Points\n",
       "0  2009/2010             281.000      38   23     6      9     75\n",
       "1  2010/2011             304.375      38   19    11      8     68\n",
       "2  2011/2012             312.925      38   21     7     10     70\n",
       "3  2012/2013             293.750      38   21    10      7     73\n",
       "4  2013/2014             341.200      38   24     7      7     79"
      ]
     },
     "execution_count": 25,
     "metadata": {},
     "output_type": "execute_result"
    }
   ],
   "source": [
    "ars_hist.head(5)"
   ]
  },
  {
   "cell_type": "markdown",
   "metadata": {
    "collapsed": true
   },
   "source": [
    "# Data Story"
   ]
  },
  {
   "cell_type": "code",
   "execution_count": 26,
   "metadata": {},
   "outputs": [
    {
     "data": {
      "text/html": [
       "<div>\n",
       "<style>\n",
       "    .dataframe thead tr:only-child th {\n",
       "        text-align: right;\n",
       "    }\n",
       "\n",
       "    .dataframe thead th {\n",
       "        text-align: left;\n",
       "    }\n",
       "\n",
       "    .dataframe tbody tr th {\n",
       "        vertical-align: top;\n",
       "    }\n",
       "</style>\n",
       "<table border=\"1\" class=\"dataframe\">\n",
       "  <thead>\n",
       "    <tr style=\"text-align: right;\">\n",
       "      <th></th>\n",
       "      <th>Rank</th>\n",
       "      <th>League</th>\n",
       "      <th>Teams</th>\n",
       "    </tr>\n",
       "  </thead>\n",
       "  <tbody>\n",
       "    <tr>\n",
       "      <th>0</th>\n",
       "      <td>1</td>\n",
       "      <td>Primera Divison</td>\n",
       "      <td>4</td>\n",
       "    </tr>\n",
       "    <tr>\n",
       "      <th>1</th>\n",
       "      <td>2</td>\n",
       "      <td>1. Bundesliga</td>\n",
       "      <td>4</td>\n",
       "    </tr>\n",
       "    <tr>\n",
       "      <th>2</th>\n",
       "      <td>3</td>\n",
       "      <td>Premier League</td>\n",
       "      <td>4</td>\n",
       "    </tr>\n",
       "    <tr>\n",
       "      <th>3</th>\n",
       "      <td>4</td>\n",
       "      <td>Serie A</td>\n",
       "      <td>3</td>\n",
       "    </tr>\n",
       "    <tr>\n",
       "      <th>4</th>\n",
       "      <td>5</td>\n",
       "      <td>Ligue 1</td>\n",
       "      <td>3</td>\n",
       "    </tr>\n",
       "  </tbody>\n",
       "</table>\n",
       "</div>"
      ],
      "text/plain": [
       "   Rank           League  Teams\n",
       "0     1  Primera Divison      4\n",
       "1     2    1. Bundesliga      4\n",
       "2     3   Premier League      4\n",
       "3     4          Serie A      3\n",
       "4     5          Ligue 1      3"
      ]
     },
     "execution_count": 26,
     "metadata": {},
     "output_type": "execute_result"
    }
   ],
   "source": [
    "# Champions League Allocated Spots by League\n",
    "\n",
    "columns = ['Rank', 'League', 'Teams']\n",
    "Champions_df = pd.DataFrame(columns=columns)\n",
    "Champions_df['Rank'] = range(1,6)\n",
    "Champions_df['League'] = ['Primera Divison', '1. Bundesliga', 'Premier League', 'Serie A', 'Ligue 1']\n",
    "Champions_df['Teams'] = [4,4,4,3,3]\n",
    "Champions_df"
   ]
  },
  {
   "cell_type": "markdown",
   "metadata": {},
   "source": [
    "According to Uefa: \"The associations' club coefficients rankings are based on the results of each association's clubs in the five previous UEFA Champions League and UEFA Europa League seasons. The rankings determine the number of places allocated to an association (country) in forthcoming UEFA club competition.\" The table above displayes the number of spots allocated from each of Europe's top leagues. The last ranked team from the table above from each league will enter a play-off round to qualify. The Europa League winner also automatically qualifies to the Champions League, regardless of their season performance.\n",
    "\n",
    "source: http://www.uefa.com/memberassociations/uefarankings/country/"
   ]
  },
  {
   "cell_type": "code",
   "execution_count": 27,
   "metadata": {},
   "outputs": [
    {
     "data": {
      "image/png": "[encoded data removed]",
      "text/plain": [
       "<matplotlib.figure.Figure at 0x1add6b59d30>"
      ]
     },
     "metadata": {},
     "output_type": "display_data"
    }
   ],
   "source": [
    "#Plot Histograms of Team Market Value\n",
    "\n",
    "a =plt.subplot(321)\n",
    "sns.distplot(Summary_df[\"Team Value Mill. €\"], color='steelblue', kde=False)\n",
    "a.set_title(\"Top Leagues' Squad Market Value\")\n",
    "\n",
    "# Premier League\n",
    "b =plt.subplot(322)\n",
    "sns.distplot(Summary_df[Summary_df['League Name']==\"Premier League\"][\"Team Value Mill. €\"], color='steelblue', kde=False)\n",
    "b.set_title(\"Premier League\")\n",
    "\n",
    "# Bundesliga\n",
    "c =plt.subplot(323)\n",
    "sns.distplot(Summary_df[Summary_df['League Name']==\"1. Bundesliga\"][\"Team Value Mill. €\"], color='steelblue', kde=False)\n",
    "c.set_title(\"1. Bundesliga\")\n",
    "\n",
    "# Ligue 1\n",
    "d =plt.subplot(324)\n",
    "sns.distplot(Summary_df[Summary_df['League Name']==\"Ligue 1\"][\"Team Value Mill. €\"], color='steelblue', kde=False)\n",
    "d.set_title(\"Ligue 1\")\n",
    "\n",
    "# Primera Divison\n",
    "e =plt.subplot(325)\n",
    "sns.distplot(Summary_df[Summary_df['League Name']==\"Primera Division\"][\"Team Value Mill. €\"], color='steelblue', kde=False)\n",
    "e.set_title(\"Primera Division\")\n",
    "\n",
    "# Serie A\n",
    "f =plt.subplot(326)\n",
    "sns.distplot(Summary_df[Summary_df['League Name']==\"Serie A\"][\"Team Value Mill. €\"], color='steelblue', kde=False)\n",
    "f.set_title(\"Serie A\")\n",
    "\n",
    "plt.subplots_adjust(top=0.92, bottom=0.08, left=0.10, right=0.95, hspace=1,\n",
    "                    wspace=0.35)\n",
    "plt.show()"
   ]
  },
  {
   "cell_type": "markdown",
   "metadata": {},
   "source": [
    "The distribution of the team market values are skewed to the right. The Premier League appears to have a more even distribution whereas the other leagues have a few teams worth more than the rest."
   ]
  },
  {
   "cell_type": "code",
   "execution_count": 28,
   "metadata": {},
   "outputs": [
    {
     "data": {
      "image/png": "[encoded data removed]",
      "text/plain": [
       "<matplotlib.figure.Figure at 0x1add67b6898>"
      ]
     },
     "metadata": {},
     "output_type": "display_data"
    }
   ],
   "source": [
    "#Creats Boxpots for Each league with Outliers\n",
    "ax = plt.axes()\n",
    "x = Summary_df[\"Team Value Mill. €\"]\n",
    "y = Summary_df['League Name']\n",
    "sns.boxplot(x=x, y=y, palette='Blues')\n",
    "ax.set_title(\"Leagues' Market Values Distribution\")\n",
    "plt.show()"
   ]
  },
  {
   "cell_type": "markdown",
   "metadata": {},
   "source": [
    "The figure above allows for better comparisons of the different distributions of team values. All of the leagues except for the Premier League has outliers. Primera Division has two extreme outliers (Real Madrid & Barcelona) which are worth more than any other team in all of the leagues. "
   ]
  },
  {
   "cell_type": "code",
   "execution_count": 29,
   "metadata": {},
   "outputs": [
    {
     "data": {
      "image/png": "[encoded data removed]",
      "text/plain": [
       "<matplotlib.figure.Figure at 0x1add7391d68>"
      ]
     },
     "metadata": {},
     "output_type": "display_data"
    }
   ],
   "source": [
    "#Bar Plot of Leagues' Market Value\n",
    "\n",
    "ax = plt.axes()\n",
    "sns.set(style=\"whitegrid\")\n",
    "\n",
    "x0 = int(Summary_df[Summary_df['League Name']==\"Premier League\"][\"Team Value Mill. €\"].sum())\n",
    "x1 = int(Summary_df[Summary_df['League Name']==\"1. Bundesliga\"][\"Team Value Mill. €\"].sum())\n",
    "x2 = int(Summary_df[Summary_df['League Name']==\"Ligue 1\"][\"Team Value Mill. €\"].sum())\n",
    "x3 = int(Summary_df[Summary_df['League Name']==\"Primera Division\"][\"Team Value Mill. €\"].sum())\n",
    "x4 = int(Summary_df[Summary_df['League Name']==\"Serie A\"][\"Team Value Mill. €\"].sum())\n",
    "\n",
    "values = [x0, x1, x2, x3, x4]\n",
    "\n",
    "columns = [\"Market Value Mill. €\"]\n",
    "df = pd.DataFrame(columns=columns)\n",
    "df['Market Value Mill. €'] = values\n",
    "\n",
    "x = Top_leagues_df['League Name']\n",
    "y = df['Market Value Mill. €']\n",
    "\n",
    "sns.barplot(x=x, y=y, color=\"b\", palette='Blues_d', ax=ax)\n",
    "ax.set_title(\"Leagues' Market Value\")\n",
    "ax.set_ylabel(\"Total Market Value Mill. €\")\n",
    "plt.show()"
   ]
  },
  {
   "cell_type": "markdown",
   "metadata": {},
   "source": [
    "The Premier League's players are worth far more than the rest of the other leagues with Primera Division coming in second. It is  important to note that this table reflects a sum value of all players in each league. Since 1. Bundesliga has 18 teams (two less than the other leagues), a bar plot reflecting average values may be more appropriate. Also, Primera Division has two extreme outliers that push the market value of the whole league."
   ]
  },
  {
   "cell_type": "code",
   "execution_count": 30,
   "metadata": {},
   "outputs": [
    {
     "data": {
      "image/png": "[encoded data removed]",
      "text/plain": [
       "<matplotlib.figure.Figure at 0x1add7565ba8>"
      ]
     },
     "metadata": {},
     "output_type": "display_data"
    }
   ],
   "source": [
    "#Bar Plot of Leagues' Mean Market Value\n",
    "\n",
    "ax = plt.axes()\n",
    "sns.set(style=\"whitegrid\")\n",
    "\n",
    "x0 = int(Summary_df[Summary_df['League Name']==\"Premier League\"][\"Team Value Mill. €\"].mean())\n",
    "x1 = int(Summary_df[Summary_df['League Name']==\"1. Bundesliga\"][\"Team Value Mill. €\"].mean())\n",
    "x2 = int(Summary_df[Summary_df['League Name']==\"Ligue 1\"][\"Team Value Mill. €\"].mean())\n",
    "x3 = int(Summary_df[Summary_df['League Name']==\"Primera Division\"][\"Team Value Mill. €\"].mean())\n",
    "x4 = int(Summary_df[Summary_df['League Name']==\"Serie A\"][\"Team Value Mill. €\"].mean())\n",
    "\n",
    "values = [x0, x1, x2, x3, x4]\n",
    "\n",
    "columns = [\"Market Value Mill. €\"]\n",
    "df = pd.DataFrame(columns=columns)\n",
    "df['Market Value Mill. €'] = values\n",
    "\n",
    "x = Top_leagues_df['League Name']\n",
    "y = df['Market Value Mill. €']\n",
    "\n",
    "sns.barplot(x=x, y=y, color=\"b\", palette='Blues_d', ax=ax)\n",
    "ax.set_title(\"Leagues' Market Value\")\n",
    "plt.show()"
   ]
  },
  {
   "cell_type": "markdown",
   "metadata": {},
   "source": [
    "Using mean values, there is an apparent increase in 1.Bundesliga's value. The Premier League, still remains the most expensive league in terms of team value, with Primera Division, Serie A, 1. Bundesliga, and Ligue 1 following in order."
   ]
  },
  {
   "cell_type": "code",
   "execution_count": 31,
   "metadata": {},
   "outputs": [
    {
     "data": {
      "image/png": "[encoded data removed]",
      "text/plain": [
       "<matplotlib.figure.Figure at 0x1add7641a90>"
      ]
     },
     "metadata": {},
     "output_type": "display_data"
    }
   ],
   "source": [
    "#Creates Plot of Teams & Team Market Value\n",
    "ax = plt.axes()\n",
    "x = Summary_df[\"Team Value Mill. €\"]\n",
    "y = Summary_df[\"Position\"]\n",
    "\n",
    "x1 = CL_teams[\"Team Value Mill. €\"]\n",
    "x2 = CR_teams[\"Team Value Mill. €\"]\n",
    "x3 = EL_team[\"Team Value Mill. €\"]\n",
    "x4 = No_CL[\"Team Value Mill. €\"]\n",
    "\n",
    "\n",
    "a = [1]* len(CL_teams[\"Position\"])\n",
    "a = pd.Series(a)\n",
    "y1 = a\n",
    "b = [1]* len(CR_teams[\"Position\"])\n",
    "b = pd.Series(b)\n",
    "y2 = b\n",
    "c = [1]* len(EL_team[\"Position\"])\n",
    "c = pd.Series(c)\n",
    "y3 = c\n",
    "d = [1]* len(No_CL[\"Position\"])\n",
    "d = pd.Series(d)\n",
    "y4 = d\n",
    "\n",
    "\n",
    "sns.regplot(x=x1, y=y1, fit_reg=False, color=\"#2ecc71\")\n",
    "sns.regplot(x=x2, y=y2, fit_reg=False, color=\"#e74c3c\")\n",
    "sns.regplot(x=x3, y=y3, fit_reg=False, color=\"#3498db\")\n",
    "sns.regplot(x=x4, y=y4, fit_reg=False, color=\"#95a5a6\")\n",
    "\n",
    "plt.text(Summary_df[Summary_df[\"Team Name\"]==\"Arsenal FC\"][\"Team Value Mill. €\"], 1 , 'Arsenal')\n",
    "\n",
    "\n",
    "ax.set_title(\"Season 2016/2017\")\n",
    "ax.legend(labels=('Qualified', 'Play-offs', 'Europa League Winner', 'Not Qualified'))\n",
    "plt.ylim(0,2)\n",
    "plt.rcParams['figure.figsize']=(15,5)\n",
    "plt.show()"
   ]
  },
  {
   "cell_type": "code",
   "execution_count": 32,
   "metadata": {},
   "outputs": [
    {
     "data": {
      "image/png": "[encoded data removed]",
      "text/plain": [
       "<matplotlib.figure.Figure at 0x1add74905c0>"
      ]
     },
     "metadata": {},
     "output_type": "display_data"
    },
    {
     "name": "stdout",
     "output_type": "stream",
     "text": [
      "correlation coefficient: 0.81\n"
     ]
    }
   ],
   "source": [
    "#Creates Scatter Plot of Wins in the Last Season and Team Market Value\n",
    "ax = plt.axes()\n",
    "x = Summary_df[\"Team Value Mill. €\"]\n",
    "y = Summary_df[\"Wins\"]\n",
    "\n",
    "x1 = CL_teams[\"Team Value Mill. €\"]\n",
    "x2 = CR_teams[\"Team Value Mill. €\"]\n",
    "x3 = EL_team[\"Team Value Mill. €\"]\n",
    "x4 = No_CL[\"Team Value Mill. €\"]\n",
    "\n",
    "y1 = CL_teams[\"Wins\"]\n",
    "y2 = CR_teams[\"Wins\"]\n",
    "y3 = EL_team[\"Wins\"]\n",
    "y4 = No_CL[\"Wins\"]\n",
    "\n",
    "# Generated linear fit\n",
    "slope, intercept, r_value, p_value, std_err = stats.linregress(x,y)\n",
    "line = slope*x+intercept\n",
    "\n",
    "plt.plot(x, line)\n",
    "sns.regplot(x=x1, y=y1, fit_reg=False, color=\"#2ecc71\")\n",
    "sns.regplot(x=x2, y=y2, fit_reg=False, color=\"#e74c3c\")\n",
    "sns.regplot(x=x3, y=y3, fit_reg=False, color=\"#3498db\")\n",
    "sns.regplot(x=x4, y=y4, fit_reg=False, color=\"#95a5a6\")\n",
    "\n",
    "\n",
    "plt.text(Summary_df[Summary_df[\"Team Name\"]==\"Real Madrid CF\"][\"Team Value Mill. €\"], Summary_df[Summary_df[\"Team Name\"]==\"Real Madrid CF\"][\"Wins\"], 'Real Madrid')\n",
    "plt.text(Summary_df[Summary_df[\"Team Name\"]==\"Arsenal FC\"][\"Team Value Mill. €\"], Summary_df[Summary_df[\"Team Name\"]==\"Arsenal FC\"][\"Wins\"], 'Arsenal')\n",
    "plt.text(Summary_df[Summary_df[\"Team Name\"]==\"Manchester United FC\"][\"Team Value Mill. €\"], Summary_df[Summary_df[\"Team Name\"]==\"Manchester United FC\"][\"Wins\"], 'ManU')\n",
    "plt.text(Summary_df[Summary_df[\"Team Name\"]==\"AS Monaco FC\"][\"Team Value Mill. €\"], Summary_df[Summary_df[\"Team Name\"]==\"AS Monaco FC\"][\"Wins\"], 'Monaco')\n",
    "plt.text(Summary_df[Summary_df[\"Team Name\"]==\"OGC Nice\"][\"Team Value Mill. €\"], Summary_df[Summary_df[\"Team Name\"]==\"OGC Nice\"][\"Wins\"], 'Nice')\n",
    "plt.text(Summary_df[Summary_df[\"Team Name\"]==\"Pescara Calcio\"][\"Team Value Mill. €\"], Summary_df[Summary_df[\"Team Name\"]==\"Pescara Calcio\"][\"Wins\"], 'Pescara Calcio')\n",
    "\n",
    "\n",
    "ax.set_title(\"Wins in Season 2016/2017\")\n",
    "ax.legend(labels=('Linear Fit', 'Qualified', 'Play-offs', 'Europa League Winner', 'Not Qualified'))\n",
    "plt.show()\n",
    "#Print Correlation Coefficient\n",
    "print('correlation coefficient: ' + str(round(np.corrcoef(Summary_df[\"Team Value Mill. €\"], Summary_df[\"Wins\"])[0][1],2)))"
   ]
  },
  {
   "cell_type": "markdown",
   "metadata": {},
   "source": [
    "There is a strong positive relationship between how many games a club wins in a season and the value of its players. A correlation coefficient of 0.78 reflects this relationship. From the scatter plot above, all of the team worth over 330 million, except for Arsenal FC have qualified or made the play-off round for the Champions League. Manchester United made it through by winning the Europa League, but from the graph above, it is apparent for a club of its stature, the club had a mediocre if not poor season. The squad is worth over 450 million, but only managed to win 17 games rather than 23 suggested by the linear fit. AS Monaco seems to be the most effective team, having won 30 games with a team value of 272 million. OGC Nice looks like the team revelation of the season winning 23 games with a team worth less than 130 million."
   ]
  },
  {
   "cell_type": "code",
   "execution_count": 33,
   "metadata": {},
   "outputs": [
    {
     "data": {
      "image/png": "[encoded data removed]",
      "text/plain": [
       "<matplotlib.figure.Figure at 0x1add7490be0>"
      ]
     },
     "metadata": {},
     "output_type": "display_data"
    },
    {
     "name": "stdout",
     "output_type": "stream",
     "text": [
      "correlation coefficient: -0.72\n"
     ]
    }
   ],
   "source": [
    "#Creates Scatter Plot of Losses in the Last Season and Team Market Value\n",
    "ax = plt.axes()\n",
    "x = Summary_df[\"Team Value Mill. €\"]\n",
    "y = Summary_df[\"Losses\"]\n",
    "\n",
    "x1 = CL_teams[\"Team Value Mill. €\"]\n",
    "x2 = CR_teams[\"Team Value Mill. €\"]\n",
    "x3 = EL_team[\"Team Value Mill. €\"]\n",
    "x4 = No_CL[\"Team Value Mill. €\"]\n",
    "\n",
    "y1 = CL_teams[\"Losses\"]\n",
    "y2 = CR_teams[\"Losses\"]\n",
    "y3 = EL_team[\"Losses\"]\n",
    "y4 = No_CL[\"Losses\"]\n",
    "\n",
    "# Generated linear fit\n",
    "slope, intercept, r_value, p_value, std_err = stats.linregress(x,y)\n",
    "line = slope*x+intercept\n",
    "\n",
    "plt.plot(x, line)\n",
    "sns.regplot(x=x1, y=y1, fit_reg=False, color=\"#2ecc71\")\n",
    "sns.regplot(x=x2, y=y2, fit_reg=False, color=\"#e74c3c\")\n",
    "sns.regplot(x=x3, y=y3, fit_reg=False, color=\"#3498db\")\n",
    "sns.regplot(x=x4, y=y4, fit_reg=False, color=\"#95a5a6\")\n",
    "\n",
    "\n",
    "plt.text(Summary_df[Summary_df[\"Team Name\"]==\"Real Madrid CF\"][\"Team Value Mill. €\"], Summary_df[Summary_df[\"Team Name\"]==\"Real Madrid CF\"][\"Losses\"], 'Real Madrid')\n",
    "plt.text(Summary_df[Summary_df[\"Team Name\"]==\"Arsenal FC\"][\"Team Value Mill. €\"], Summary_df[Summary_df[\"Team Name\"]==\"Arsenal FC\"][\"Losses\"], 'Arsenal')\n",
    "plt.text(Summary_df[Summary_df[\"Team Name\"]==\"TSG 1899 Hoffenheim\"][\"Team Value Mill. €\"], Summary_df[Summary_df[\"Team Name\"]==\"TSG 1899 Hoffenheim\"][\"Losses\"], 'Hoffenheim')\n",
    "plt.text(Summary_df[Summary_df[\"Team Name\"]==\"FC Bayern München\"][\"Team Value Mill. €\"], Summary_df[Summary_df[\"Team Name\"]==\"FC Bayern München\"][\"Losses\"], 'Bayern Mun')\n",
    "plt.text(Summary_df[Summary_df[\"Team Name\"]==\"Granada CF\"][\"Team Value Mill. €\"], Summary_df[Summary_df[\"Team Name\"]==\"Granada CF\"][\"Losses\"], 'Granada')\n",
    "\n",
    "\n",
    "ax.set_title(\"Losses in Season 2016/2017\")\n",
    "ax.legend(labels=('Linear Fit', 'Qualified', 'Play-offs', 'Europa League Winner', 'Not Qualified'))\n",
    "plt.show()\n",
    "#Print Correlation Coefficient\n",
    "print('correlation coefficient: ' + str(round(np.corrcoef(Summary_df[\"Team Value Mill. €\"], Summary_df[\"Losses\"])[0][1],2)))"
   ]
  },
  {
   "cell_type": "markdown",
   "metadata": {},
   "source": [
    "There is a negative relationship between losses and a team's market value. Again, Arsenal FC stands out for losing the most games (9) for teams worth over 350 million. OGC Nice and TSG 1899 Hoffenheim only lost 4 games with teams worth less than 140 million."
   ]
  },
  {
   "cell_type": "code",
   "execution_count": 34,
   "metadata": {},
   "outputs": [
    {
     "data": {
      "image/png": "[encoded data removed]",
      "text/plain": [
       "<matplotlib.figure.Figure at 0x1add7b0def0>"
      ]
     },
     "metadata": {},
     "output_type": "display_data"
    },
    {
     "name": "stdout",
     "output_type": "stream",
     "text": [
      "correlation coefficient: 0.82\n"
     ]
    }
   ],
   "source": [
    "#Creates Scatter Plot of Goals in the Last Season and Team Market Value\n",
    "ax = plt.axes()\n",
    "x = Summary_df[\"Team Value Mill. €\"]\n",
    "y = Summary_df[\"Goals\"]\n",
    "\n",
    "x1 = CL_teams[\"Team Value Mill. €\"]\n",
    "x2 = CR_teams[\"Team Value Mill. €\"]\n",
    "x3 = EL_team[\"Team Value Mill. €\"]\n",
    "x4 = No_CL[\"Team Value Mill. €\"]\n",
    "\n",
    "y1 = CL_teams[\"Goals\"]\n",
    "y2 = CR_teams[\"Goals\"]\n",
    "y3 = EL_team[\"Goals\"]\n",
    "y4 = No_CL[\"Goals\"]\n",
    "\n",
    "# Generated linear fit\n",
    "slope, intercept, r_value, p_value, std_err = stats.linregress(x,y)\n",
    "line = slope*x+intercept\n",
    "\n",
    "plt.plot(x, line)\n",
    "sns.regplot(x=x1, y=y1, fit_reg=False, color=\"#2ecc71\")\n",
    "sns.regplot(x=x2, y=y2, fit_reg=False, color=\"#e74c3c\")\n",
    "sns.regplot(x=x3, y=y3, fit_reg=False, color=\"#3498db\")\n",
    "sns.regplot(x=x4, y=y4, fit_reg=False, color=\"#95a5a6\")\n",
    "\n",
    "\n",
    "plt.text(Summary_df[Summary_df[\"Team Name\"]==\"Real Madrid CF\"][\"Team Value Mill. €\"], Summary_df[Summary_df[\"Team Name\"]==\"Real Madrid CF\"][\"Goals\"], 'Real Madrid')\n",
    "plt.text(Summary_df[Summary_df[\"Team Name\"]==\"AS Monaco FC\"][\"Team Value Mill. €\"], Summary_df[Summary_df[\"Team Name\"]==\"AS Monaco FC\"][\"Goals\"], 'Monaco')\n",
    "plt.text(Summary_df[Summary_df[\"Team Name\"]==\"FC Barcelona\"][\"Team Value Mill. €\"], Summary_df[Summary_df[\"Team Name\"]==\"FC Barcelona\"][\"Goals\"], 'Barcelona')\n",
    "\n",
    "\n",
    "\n",
    "ax.set_title(\"Goals in Season 2016/2017\")\n",
    "ax.legend(labels=('Linear Fit', 'Qualified', 'Play-offs', 'Europa League Winner', 'Not Qualified'))\n",
    "plt.show()\n",
    "#Print Correlation Coefficient\n",
    "print('correlation coefficient: ' + str(round(np.corrcoef(Summary_df[\"Team Value Mill. €\"], Summary_df[\"Goals\"])[0][1],2)))"
   ]
  },
  {
   "cell_type": "markdown",
   "metadata": {},
   "source": [
    "The scatter plot above shows better the dominance displayed by Real Madrid and Barcelona in terms of goals scored. Monaco has similar numbers with players worth less than half of Real Madrid and Barcelona. "
   ]
  },
  {
   "cell_type": "code",
   "execution_count": 35,
   "metadata": {},
   "outputs": [
    {
     "data": {
      "image/png": "[encoded data removed]",
      "text/plain": [
       "<matplotlib.figure.Figure at 0x1add7be3240>"
      ]
     },
     "metadata": {},
     "output_type": "display_data"
    },
    {
     "name": "stdout",
     "output_type": "stream",
     "text": [
      "correlation coefficient: -0.7\n"
     ]
    }
   ],
   "source": [
    "#Creates Scatter Plot of Position in the Last Season and Team Market Value\n",
    "ax = plt.axes()\n",
    "x = Summary_df[\"Team Value Mill. €\"]\n",
    "y = Summary_df[\"Position\"]\n",
    "\n",
    "x1 = CL_teams[\"Team Value Mill. €\"]\n",
    "x2 = CR_teams[\"Team Value Mill. €\"]\n",
    "x3 = EL_team[\"Team Value Mill. €\"]\n",
    "x4 = No_CL[\"Team Value Mill. €\"]\n",
    "\n",
    "y1 = CL_teams[\"Position\"]\n",
    "y2 = CR_teams[\"Position\"]\n",
    "y3 = EL_team[\"Position\"]\n",
    "y4 = No_CL[\"Position\"]\n",
    "\n",
    "# Generated linear fit\n",
    "slope, intercept, r_value, p_value, std_err = stats.linregress(x,y)\n",
    "line = slope*x+intercept\n",
    "\n",
    "plt.plot(x, line)\n",
    "sns.regplot(x=x1, y=y1, fit_reg=False, color=\"#2ecc71\")\n",
    "sns.regplot(x=x2, y=y2, fit_reg=False, color=\"#e74c3c\")\n",
    "sns.regplot(x=x3, y=y3, fit_reg=False, color=\"#3498db\")\n",
    "sns.regplot(x=x4, y=y4, fit_reg=False, color=\"#95a5a6\")\n",
    "\n",
    "\n",
    "plt.text(Summary_df[Summary_df[\"Team Name\"]==\"Real Madrid CF\"][\"Team Value Mill. €\"], Summary_df[Summary_df[\"Team Name\"]==\"Real Madrid CF\"][\"Position\"], 'Real Madrid')\n",
    "plt.text(Summary_df[Summary_df[\"Team Name\"]==\"Red Bull Leipzig\"][\"Team Value Mill. €\"], Summary_df[Summary_df[\"Team Name\"]==\"Red Bull Leipzig\"][\"Position\"], 'Leipzig')\n",
    "plt.text(Summary_df[Summary_df[\"Team Name\"]==\"FC Barcelona\"][\"Team Value Mill. €\"], Summary_df[Summary_df[\"Team Name\"]==\"FC Barcelona\"][\"Position\"], 'Barcelona')\n",
    "plt.text(Summary_df[Summary_df[\"Team Name\"]==\"Juventus Turin\"][\"Team Value Mill. €\"], Summary_df[Summary_df[\"Team Name\"]==\"Juventus Turin\"][\"Position\"], 'Juventus')\n",
    "plt.text(Summary_df[Summary_df[\"Team Name\"]==\"AS Roma\"][\"Team Value Mill. €\"], Summary_df[Summary_df[\"Team Name\"]==\"AS Roma\"][\"Position\"], 'Roma')\n",
    "plt.text(Summary_df[Summary_df[\"Team Name\"]==\"Arsenal FC\"][\"Team Value Mill. €\"], Summary_df[Summary_df[\"Team Name\"]==\"Arsenal FC\"][\"Position\"], 'Arsenal')\n",
    "\n",
    "\n",
    "ax.set_title(\"End Position in Season 2016/2017\")\n",
    "ax.legend(labels=('Linear Fit', 'Qualified', 'Play-offs', 'Europa League Winner', 'Not Qualified'))\n",
    "plt.show()\n",
    "#Print Correlation Coefficient\n",
    "print('correlation coefficient: ' + str(round(np.corrcoef(Summary_df[\"Team Value Mill. €\"], Summary_df[\"Position\"])[0][1],2)))"
   ]
  },
  {
   "cell_type": "markdown",
   "metadata": {
    "collapsed": true
   },
   "source": [
    "From the graph above, Red Bull Leipzig stands out by reaching the second position in their league with a team worth a merely 163 million. Real Madrid and Barcelona are at the end of the scale in term of team value, but they most compete against each other. Juventus Turin made to the top spot in Serie A with a team worth more than 100 million than their closest rival (AS Roma). Juventus must still compete in the Champions League against teams like Real Madrid and Barcelona, so it makes sense for them to have a team worth considerably compared to the rest of Seria A clubs."
   ]
  },
  {
   "cell_type": "markdown",
   "metadata": {},
   "source": [
    "# Inferential statistics"
   ]
  },
  {
   "cell_type": "code",
   "execution_count": 36,
   "metadata": {},
   "outputs": [
    {
     "data": {
      "text/html": [
       "<div>\n",
       "<style>\n",
       "    .dataframe thead tr:only-child th {\n",
       "        text-align: right;\n",
       "    }\n",
       "\n",
       "    .dataframe thead th {\n",
       "        text-align: left;\n",
       "    }\n",
       "\n",
       "    .dataframe tbody tr th {\n",
       "        vertical-align: top;\n",
       "    }\n",
       "</style>\n",
       "<table border=\"1\" class=\"dataframe\">\n",
       "  <thead>\n",
       "    <tr style=\"text-align: right;\">\n",
       "      <th></th>\n",
       "      <th>Position</th>\n",
       "      <th>Wins</th>\n",
       "      <th>Draws</th>\n",
       "      <th>Losses</th>\n",
       "      <th>Goals</th>\n",
       "      <th>Goals Against</th>\n",
       "      <th>Goal Difference</th>\n",
       "      <th>Points</th>\n",
       "      <th>Team Value Mill. €</th>\n",
       "    </tr>\n",
       "  </thead>\n",
       "  <tbody>\n",
       "    <tr>\n",
       "      <th>count</th>\n",
       "      <td>98.000000</td>\n",
       "      <td>98.000000</td>\n",
       "      <td>98.000000</td>\n",
       "      <td>98.000000</td>\n",
       "      <td>98.000000</td>\n",
       "      <td>98.000000</td>\n",
       "      <td>98.000000</td>\n",
       "      <td>98.000000</td>\n",
       "      <td>98.000000</td>\n",
       "    </tr>\n",
       "    <tr>\n",
       "      <th>mean</th>\n",
       "      <td>10.316327</td>\n",
       "      <td>14.326531</td>\n",
       "      <td>8.612245</td>\n",
       "      <td>14.326531</td>\n",
       "      <td>52.785714</td>\n",
       "      <td>52.785714</td>\n",
       "      <td>0.000000</td>\n",
       "      <td>51.591837</td>\n",
       "      <td>168.423776</td>\n",
       "    </tr>\n",
       "    <tr>\n",
       "      <th>std</th>\n",
       "      <td>5.706926</td>\n",
       "      <td>6.374523</td>\n",
       "      <td>2.715487</td>\n",
       "      <td>6.105221</td>\n",
       "      <td>18.948792</td>\n",
       "      <td>14.070698</td>\n",
       "      <td>29.372124</td>\n",
       "      <td>18.486460</td>\n",
       "      <td>164.288146</td>\n",
       "    </tr>\n",
       "    <tr>\n",
       "      <th>min</th>\n",
       "      <td>1.000000</td>\n",
       "      <td>3.000000</td>\n",
       "      <td>3.000000</td>\n",
       "      <td>2.000000</td>\n",
       "      <td>27.000000</td>\n",
       "      <td>22.000000</td>\n",
       "      <td>-54.000000</td>\n",
       "      <td>18.000000</td>\n",
       "      <td>20.400000</td>\n",
       "    </tr>\n",
       "    <tr>\n",
       "      <th>25%</th>\n",
       "      <td>5.250000</td>\n",
       "      <td>10.000000</td>\n",
       "      <td>7.000000</td>\n",
       "      <td>10.000000</td>\n",
       "      <td>40.000000</td>\n",
       "      <td>42.000000</td>\n",
       "      <td>-18.750000</td>\n",
       "      <td>39.000000</td>\n",
       "      <td>59.822500</td>\n",
       "    </tr>\n",
       "    <tr>\n",
       "      <th>50%</th>\n",
       "      <td>10.000000</td>\n",
       "      <td>12.000000</td>\n",
       "      <td>8.500000</td>\n",
       "      <td>15.000000</td>\n",
       "      <td>47.500000</td>\n",
       "      <td>53.000000</td>\n",
       "      <td>-7.000000</td>\n",
       "      <td>46.000000</td>\n",
       "      <td>102.115000</td>\n",
       "    </tr>\n",
       "    <tr>\n",
       "      <th>75%</th>\n",
       "      <td>15.000000</td>\n",
       "      <td>18.000000</td>\n",
       "      <td>10.000000</td>\n",
       "      <td>19.000000</td>\n",
       "      <td>62.000000</td>\n",
       "      <td>63.000000</td>\n",
       "      <td>19.500000</td>\n",
       "      <td>63.000000</td>\n",
       "      <td>207.187500</td>\n",
       "    </tr>\n",
       "    <tr>\n",
       "      <th>max</th>\n",
       "      <td>20.000000</td>\n",
       "      <td>30.000000</td>\n",
       "      <td>15.000000</td>\n",
       "      <td>26.000000</td>\n",
       "      <td>116.000000</td>\n",
       "      <td>94.000000</td>\n",
       "      <td>79.000000</td>\n",
       "      <td>95.000000</td>\n",
       "      <td>783.300000</td>\n",
       "    </tr>\n",
       "  </tbody>\n",
       "</table>\n",
       "</div>"
      ],
      "text/plain": [
       "        Position       Wins      Draws     Losses       Goals  Goals Against  \\\n",
       "count  98.000000  98.000000  98.000000  98.000000   98.000000      98.000000   \n",
       "mean   10.316327  14.326531   8.612245  14.326531   52.785714      52.785714   \n",
       "std     5.706926   6.374523   2.715487   6.105221   18.948792      14.070698   \n",
       "min     1.000000   3.000000   3.000000   2.000000   27.000000      22.000000   \n",
       "25%     5.250000  10.000000   7.000000  10.000000   40.000000      42.000000   \n",
       "50%    10.000000  12.000000   8.500000  15.000000   47.500000      53.000000   \n",
       "75%    15.000000  18.000000  10.000000  19.000000   62.000000      63.000000   \n",
       "max    20.000000  30.000000  15.000000  26.000000  116.000000      94.000000   \n",
       "\n",
       "       Goal Difference     Points  Team Value Mill. €  \n",
       "count        98.000000  98.000000           98.000000  \n",
       "mean          0.000000  51.591837          168.423776  \n",
       "std          29.372124  18.486460          164.288146  \n",
       "min         -54.000000  18.000000           20.400000  \n",
       "25%         -18.750000  39.000000           59.822500  \n",
       "50%          -7.000000  46.000000          102.115000  \n",
       "75%          19.500000  63.000000          207.187500  \n",
       "max          79.000000  95.000000          783.300000  "
      ]
     },
     "execution_count": 36,
     "metadata": {},
     "output_type": "execute_result"
    }
   ],
   "source": [
    "Summary_df.describe()"
   ]
  },
  {
   "cell_type": "code",
   "execution_count": 37,
   "metadata": {},
   "outputs": [
    {
     "name": "stdout",
     "output_type": "stream",
     "text": [
      "Means & Standard Deviations for squad value in each league: \n",
      "Premier League: 258.71, 174.01\n",
      "1. Bundesliga: 148.81, 131.49\n",
      "Ligue 1: 94.65, 107.0\n",
      "Primera Division: 187.91, 221.37\n",
      "Serie A: 150.08, 127.14\n"
     ]
    }
   ],
   "source": [
    "#Calculates Means and Standard Deviation of Team Values in Each League\n",
    "\n",
    "PL_mean = round(Summary_df[Summary_df[\"League Name\"]==\"Premier League\"][\"Team Value Mill. €\"].mean(),2)\n",
    "BL_mean = round(Summary_df[Summary_df[\"League Name\"]==\"1. Bundesliga\"][\"Team Value Mill. €\"].mean(),2)\n",
    "FL_mean = round(Summary_df[Summary_df[\"League Name\"]==\"Ligue 1\"][\"Team Value Mill. €\"].mean(),2)\n",
    "PD_mean = round(Summary_df[Summary_df[\"League Name\"]==\"Primera Division\"][\"Team Value Mill. €\"].mean(),2)\n",
    "SA_mean = round(Summary_df[Summary_df[\"League Name\"]==\"Serie A\"][\"Team Value Mill. €\"].mean(),2)\n",
    "\n",
    "PL_sd = round(Summary_df[Summary_df[\"League Name\"]==\"Premier League\"][\"Team Value Mill. €\"].std(),2)\n",
    "BL_sd = round(Summary_df[Summary_df[\"League Name\"]==\"1. Bundesliga\"][\"Team Value Mill. €\"].std(),2)\n",
    "FL_sd = round(Summary_df[Summary_df[\"League Name\"]==\"Ligue 1\"][\"Team Value Mill. €\"].std(),2)\n",
    "PD_sd = round(Summary_df[Summary_df[\"League Name\"]==\"Primera Division\"][\"Team Value Mill. €\"].std(),2)\n",
    "SA_sd = round(Summary_df[Summary_df[\"League Name\"]==\"Serie A\"][\"Team Value Mill. €\"].std(),2)\n",
    "\n",
    "print(\"Means & Standard Deviations for squad value in each league: \\nPremier League: \" + str(PL_mean) + \", \" + str(PL_sd) +\n",
    "      \"\\n1. Bundesliga: \" + str(BL_mean) +  \", \" + str(BL_sd) +\n",
    "      \"\\nLigue 1: \" + str(FL_mean) + \", \" + str(FL_sd) +\n",
    "      \"\\nPrimera Division: \" + str(PD_mean) + \", \" + str(PD_sd) +\n",
    "      \"\\nSerie A: \" + str(SA_mean) + \", \" + str(SA_sd))"
   ]
  },
  {
   "cell_type": "code",
   "execution_count": 38,
   "metadata": {},
   "outputs": [
    {
     "name": "stdout",
     "output_type": "stream",
     "text": [
      "Means & Standard Deviations for goals in each league: \n",
      "Premier League: 53.2, 18.53\n",
      "1. Bundesliga: 48.72, 16.09\n",
      "Ligue 1: 49.55, 19.61\n",
      "Primera Division: 55.9, 21.45\n",
      "Serie A: 56.15, 19.08\n"
     ]
    }
   ],
   "source": [
    "#Calculates Means and Standard Deviation of Goals in Each League\n",
    "\n",
    "PL_mean = round(Summary_df[Summary_df[\"League Name\"]==\"Premier League\"][\"Goals\"].mean(),2)\n",
    "BL_mean = round(Summary_df[Summary_df[\"League Name\"]==\"1. Bundesliga\"][\"Goals\"].mean(),2)\n",
    "FL_mean = round(Summary_df[Summary_df[\"League Name\"]==\"Ligue 1\"][\"Goals\"].mean(),2)\n",
    "PD_mean = round(Summary_df[Summary_df[\"League Name\"]==\"Primera Division\"][\"Goals\"].mean(),2)\n",
    "SA_mean = round(Summary_df[Summary_df[\"League Name\"]==\"Serie A\"][\"Goals\"].mean(),2)\n",
    "\n",
    "PL_sd = round(Summary_df[Summary_df[\"League Name\"]==\"Premier League\"][\"Goals\"].std(),2)\n",
    "BL_sd = round(Summary_df[Summary_df[\"League Name\"]==\"1. Bundesliga\"][\"Goals\"].std(),2)\n",
    "FL_sd = round(Summary_df[Summary_df[\"League Name\"]==\"Ligue 1\"][\"Goals\"].std(),2)\n",
    "PD_sd = round(Summary_df[Summary_df[\"League Name\"]==\"Primera Division\"][\"Goals\"].std(),2)\n",
    "SA_sd = round(Summary_df[Summary_df[\"League Name\"]==\"Serie A\"][\"Goals\"].std(),2)\n",
    "\n",
    "print(\"Means & Standard Deviations for goals in each league: \\nPremier League: \" + str(PL_mean) + \", \" + str(PL_sd) +\n",
    "      \"\\n1. Bundesliga: \" + str(BL_mean) +  \", \" + str(BL_sd) +\n",
    "      \"\\nLigue 1: \" + str(FL_mean) + \", \" + str(FL_sd) +\n",
    "      \"\\nPrimera Division: \" + str(PD_mean) + \", \" + str(PD_sd) +\n",
    "      \"\\nSerie A: \" + str(SA_mean) + \", \" + str(SA_sd))\n"
   ]
  },
  {
   "cell_type": "code",
   "execution_count": 39,
   "metadata": {},
   "outputs": [
    {
     "name": "stdout",
     "output_type": "stream",
     "text": [
      "Mean team value of teams that qualified to Champions League or playoff round:\n",
      "420.36\n",
      "\n",
      "Mean team value of teams that did not qualified to Champions League:\n",
      "107.83\n",
      "\n",
      "Difference in means: 312.53\n"
     ]
    }
   ],
   "source": [
    "#Calculates Mean Difference between Team that Qualified/Play-off Rounds and those that did not\n",
    "\n",
    "cl = Summary_df[Summary_df[\"Champions League\"]=='Yes'][\"Team Value Mill. €\"]\n",
    "no_cl = Summary_df[Summary_df[\"Champions League\"]=='No'][\"Team Value Mill. €\"]\n",
    "\n",
    "cl_mean = round(cl.mean(),2)\n",
    "cl_std = round(cl.std(),2)\n",
    "\n",
    "no_cl_mean = round(no_cl.mean(),2)\n",
    "no_cl_std = round(no_cl.std(),2)\n",
    "difference_in_means = round(cl_mean - no_cl_mean,2)\n",
    "\n",
    "print('Mean team value of teams that qualified to Champions League or playoff round:\\n'\n",
    "      + str(cl_mean)\n",
    "      + '\\n\\nMean team value of teams that did not qualified to Champions League:\\n'\n",
    "      + str(no_cl_mean)\n",
    "      +'\\n\\nDifference in means: ' + str(difference_in_means))\n"
   ]
  },
  {
   "cell_type": "code",
   "execution_count": 40,
   "metadata": {},
   "outputs": [
    {
     "name": "stdout",
     "output_type": "stream",
     "text": [
      "14.2% would be misclassified if you tried to use squad value to guess if a team qualifies to CL.\n"
     ]
    }
   ],
   "source": [
    "# Missclassification Rate Calculation\n",
    "\n",
    "thresh = (cl_std * no_cl_mean + no_cl_std * cl_mean) / (cl_std + no_cl_std)\n",
    "cl_below_thresh = sum(cl < thresh)\n",
    "no_cl_above_thresh = sum(no_cl > thresh)\n",
    "overlap = cl_below_thresh / len(cl) + no_cl_above_thresh / len(no_cl)\n",
    "\n",
    "misclassification_rate = overlap / 2\n",
    "\n",
    "print(str(round(misclassification_rate,3)*100) + '% would be misclassified if you tried to use squad value to guess if a team qualifies to CL.')\n"
   ]
  },
  {
   "cell_type": "code",
   "execution_count": 41,
   "metadata": {},
   "outputs": [
    {
     "name": "stdout",
     "output_type": "stream",
     "text": [
      "2.87\n"
     ]
    }
   ],
   "source": [
    "def CohenEffectSize(group1, group2):\n",
    "    \"\"\"Compute Cohen's d.\n",
    "\n",
    "    group1: Series or NumPy array\n",
    "    group2: Series or NumPy array\n",
    "\n",
    "    returns: float\n",
    "    \"\"\"\n",
    "    diff = group1.mean() - group2.mean()\n",
    "\n",
    "    n1, n2 = len(group1), len(group2)\n",
    "    var1 = group1.var()\n",
    "    var2 = group2.var()\n",
    "\n",
    "    pooled_var = (n1 * var1 + n2 * var2) / (n1 + n2)\n",
    "    d = diff / np.sqrt(pooled_var)\n",
    "    return d\n",
    "\n",
    "Cohen =CohenEffectSize(cl, no_cl)\n",
    "print(round(Cohen,2))"
   ]
  },
  {
   "cell_type": "code",
   "execution_count": 42,
   "metadata": {
    "collapsed": true
   },
   "outputs": [],
   "source": [
    "def eval_pdf(rv, num=4):\n",
    "    mean, std = rv.mean(), rv.std()\n",
    "    xs = np.linspace(mean - num*std, mean + num*std, 100)\n",
    "    ys = rv.pdf(xs)\n",
    "    return xs, ys\n",
    "\n",
    "def overlap_superiority(control, treatment, n=1000):\n",
    "    \"\"\"Estimates overlap and superiority based on a sample.\n",
    "    \n",
    "    control: scipy.stats rv object\n",
    "    treatment: scipy.stats rv object\n",
    "    n: sample size\n",
    "    \"\"\"\n",
    "    control_sample = control.rvs(n)\n",
    "    treatment_sample = treatment.rvs(n)\n",
    "    thresh = (control.mean() + treatment.mean()) / 2\n",
    "    \n",
    "    control_above = sum(control_sample > thresh)\n",
    "    treatment_below = sum(treatment_sample < thresh)\n",
    "    overlap = (control_above + treatment_below) / n\n",
    "    \n",
    "    superiority = sum(x > y for x, y in zip(treatment_sample, control_sample)) / n\n",
    "    return overlap, superiority\n",
    "\n",
    "def plot_pdfs(cohen_d=Cohen):\n",
    "    \"\"\"Plot PDFs for distributions that differ by some number of stds.\n",
    "    \n",
    "    cohen_d: number of standard deviations between the means\n",
    "    \"\"\"\n",
    "    control = stats.norm(0, 1)\n",
    "    treatment = stats.norm(cohen_d, 1)\n",
    "    xs, ys = eval_pdf(control)\n",
    "    plt.fill_between(xs, ys, label='control', alpha=.7)\n",
    "\n",
    "    xs, ys = eval_pdf(treatment)\n",
    "    plt.fill_between(xs, ys, label='treatment', alpha=.7)\n",
    "    plt.show()    \n",
    "    o, s = overlap_superiority(control, treatment)\n",
    "    print('overlap', o)\n",
    "    print('superiority', s)"
   ]
  },
  {
   "cell_type": "code",
   "execution_count": 43,
   "metadata": {},
   "outputs": [
    {
     "data": {
      "image/png": "[encoded data removed]",
      "text/plain": [
       "<matplotlib.figure.Figure at 0x1add7490c50>"
      ]
     },
     "metadata": {},
     "output_type": "display_data"
    },
    {
     "name": "stdout",
     "output_type": "stream",
     "text": [
      "overlap 0.163\n",
      "superiority 0.977\n"
     ]
    }
   ],
   "source": [
    "plot_pdfs(Cohen)"
   ]
  },
  {
   "cell_type": "code",
   "execution_count": 44,
   "metadata": {
    "scrolled": true
   },
   "outputs": [
    {
     "name": "stdout",
     "output_type": "stream",
     "text": [
      "                            OLS Regression Results                            \n",
      "==============================================================================\n",
      "Dep. Variable:                   Wins   R-squared:                       0.654\n",
      "Model:                            OLS   Adj. R-squared:                  0.650\n",
      "Method:                 Least Squares   F-statistic:                     181.3\n",
      "Date:                Wed, 19 Jul 2017   Prob (F-statistic):           7.66e-24\n",
      "Time:                        23:13:34   Log-Likelihood:                -268.10\n",
      "No. Observations:                  98   AIC:                             540.2\n",
      "Df Residuals:                      96   BIC:                             545.4\n",
      "Df Model:                           1                                         \n",
      "Covariance Type:            nonrobust                                         \n",
      "==============================================================================\n",
      "                 coef    std err          t      P>|t|      [0.025      0.975]\n",
      "------------------------------------------------------------------------------\n",
      "Intercept      9.0423      0.547     16.536      0.000       7.957      10.128\n",
      "Value          0.0314      0.002     13.466      0.000       0.027       0.036\n",
      "==============================================================================\n",
      "Omnibus:                        5.522   Durbin-Watson:                   0.880\n",
      "Prob(Omnibus):                  0.063   Jarque-Bera (JB):                4.896\n",
      "Skew:                           0.517   Prob(JB):                       0.0865\n",
      "Kurtosis:                       3.358   Cond. No.                         337.\n",
      "==============================================================================\n",
      "\n",
      "Warnings:\n",
      "[1] Standard Errors assume that the covariance matrix of the errors is correctly specified.\n"
     ]
    }
   ],
   "source": [
    "df = Summary_df[['Wins', 'Team Value Mill. €']]\n",
    "df.columns = ['Wins', 'Value']\n",
    "m = ols('Wins ~ Value',df).fit()\n",
    "print (m.summary())"
   ]
  },
  {
   "cell_type": "code",
   "execution_count": 45,
   "metadata": {},
   "outputs": [
    {
     "name": "stdout",
     "output_type": "stream",
     "text": [
      "95 percent chance that mean difference in team values (Qualifies - Not Qualified ) is within: (222.651, 402.409)\n",
      "Margin of error: 89.879\n",
      "\n",
      "Testing a null hypothesis that clubs that that qualify to CL and those that do not are equal, we get a t-statistic is 11.313 and the p-value is 0.0000000.\n"
     ]
    }
   ],
   "source": [
    "import statsmodels.stats.api as sms\n",
    "\n",
    "#Compute margin of error, confidence interval, and p-value\n",
    "\n",
    "#calculates 95% confidence level on a mean difference of .033\n",
    "cm = sms.CompareMeans(sms.DescrStatsW(cl), sms.DescrStatsW(no_cl))\n",
    "print('95 percent chance that mean difference in team values (Qualifies - Not Qualified ) is within: (%.3f, %.3f)' % (cm.tconfint_diff(usevar='unequal')[0], cm.tconfint_diff(usevar='unequal')[1]))\n",
    "\n",
    "#calculates margin of error\n",
    "print('Margin of error: ' + str(round(((cm.tconfint_diff(usevar='unequal')[1] - cm.tconfint_diff(usevar='unequal')[0])/2),3)))\n",
    "\n",
    "#performs two sample t test\n",
    "two_t_test = stats.ttest_ind(cl, no_cl)\n",
    "print('\\nTesting a null hypothesis that clubs that that qualify to CL and those that do not are equal, we get a t-statistic is %.3f and the p-value is %.7f.' % two_t_test)"
   ]
  },
  {
   "cell_type": "code",
   "execution_count": 46,
   "metadata": {
    "collapsed": true
   },
   "outputs": [],
   "source": [
    "#loads teams' standing at end of 2016/2017 season from: http://api.football-data.org\n",
    "\n",
    "columns = [\"Home Draws\", \"Home Goals\", \"Home Goals Against\", \"Home Losses\", \"Home Wins\"]\n",
    "standings_df = pd.DataFrame(columns=columns)\n",
    "league_list = list(top_leagues_df['league_id'])\n",
    "id = 0\n",
    "for i in league_list:\n",
    "    url='http://api.football-data.org/v1/competitions/'+str(i)+'/leagueTable/?apikey=80c2f8ba62244830a2eda578176435d9'\n",
    "    r = requests.get(url)\n",
    "    json_data = r.json()\n",
    "    json_data = json_data['standing']\n",
    "    for i in json_data:\n",
    "        data={}\n",
    "        for k, v in i.items():\n",
    "            if k not in ['home', 'away']:\n",
    "                data[k] = v\n",
    "        data_df =pd.DataFrame.from_dict(data)\n",
    "        data_df = data_df.reset_index(drop=True)\n",
    "        venue={}\n",
    "        for k, v in i.items():\n",
    "            if k in ['home', 'away']:\n",
    "                venue[k] = v\n",
    "        df =pd.DataFrame.from_dict(venue)\n",
    "        df =df.transpose()\n",
    "        away_df =pd.DataFrame(df.iloc[0,:])\n",
    "        away_df =away_df.transpose()\n",
    "        away_df.columns = [\"Away Draws\", \"Away Goals\", \"Away Goals Against\", \"Away Losses\", \"Away Wins\"]\n",
    "        away_df = away_df.reset_index(drop=True)\n",
    "        home_df =pd.DataFrame(df.iloc[1,:])\n",
    "        home_df =home_df.transpose()\n",
    "        home_df.columns = [\"Home Draws\", \"Home Goals\", \"Home Goals Against\", \"Home Losses\", \"Home Wins\"]\n",
    "        home_df = home_df.reset_index(drop=True)\n",
    "        venue_df = pd.concat([home_df, away_df], axis=1)\n",
    "        team_stats_df = pd.concat([data_df, venue_df], axis=1)\n",
    "        team_stats_df = team_stats_df.set_index('_links')\n",
    "        team_stats_df['league_id'] = league_list[id]\n",
    "        standings_df = standings_df.append(team_stats_df, ignore_index=True)\n",
    "    id += 1"
   ]
  },
  {
   "cell_type": "code",
   "execution_count": 47,
   "metadata": {},
   "outputs": [
    {
     "data": {
      "image/png": "[encoded data removed]",
      "text/plain": [
       "<matplotlib.figure.Figure at 0x1add7bd2240>"
      ]
     },
     "metadata": {},
     "output_type": "display_data"
    }
   ],
   "source": [
    "#Creates Scatter Plot of Points in Last 7 Seasons\n",
    "ax = plt.axes()\n",
    "a = pd.Series([2010, 2011, 2012, 2013, 2014, 2015, 2016, 2017])\n",
    "x = a\n",
    "y = ars_hist['Points']\n",
    "\n",
    "sns.pointplot(x=x, y=y, fit_reg=False, color = '#CD5C5C')\n",
    "\n",
    "\n",
    "ax.set_title(\"Arsenal Last 8 Seasons\")\n",
    "plt.xlabel('End of Season')\n",
    "plt.ylabel('Points')\n",
    "plt.show()"
   ]
  },
  {
   "cell_type": "code",
   "execution_count": 48,
   "metadata": {},
   "outputs": [
    {
     "data": {
      "image/png": "[encoded data removed]",
      "text/plain": [
       "<matplotlib.figure.Figure at 0x1add7bf6b00>"
      ]
     },
     "metadata": {},
     "output_type": "display_data"
    }
   ],
   "source": [
    "#Creates Scatter Plot of Points in Last 7 Seasons\n",
    "ax = plt.axes()\n",
    "a = pd.Series([2010, 2011, 2012, 2013, 2014, 2015, 2016, 2017])\n",
    "x = a\n",
    "y = ars_hist['Total Market Value']\n",
    "\n",
    "sns.pointplot(x=x, y=y, fit_reg=False, color= '#CD5C5C')\n",
    "\n",
    "\n",
    "ax.set_title(\"Arsenal Last 8 Seasons\")\n",
    "plt.xlabel('End of Season')\n",
    "plt.ylabel('Market Value')\n",
    "plt.show()"
   ]
  },
  {
   "cell_type": "code",
   "execution_count": null,
   "metadata": {},
   "outputs": [],
   "source": []
  },
  {
   "cell_type": "code",
   "execution_count": null,
   "metadata": {
    "collapsed": true
   },
   "outputs": [],
   "source": []
  }
 ],
 "metadata": {
  "kernelspec": {
   "display_name": "Python 3",
   "language": "python",
   "name": "python3"
  },
  "language_info": {
   "codemirror_mode": {
    "name": "ipython",
    "version": 3
   },
   "file_extension": ".py",
   "mimetype": "text/x-python",
   "name": "python",
   "nbconvert_exporter": "python",
   "pygments_lexer": "ipython3",
   "version": "3.6.1"
  }
 },
 "nbformat": 4,
 "nbformat_minor": 2
}
